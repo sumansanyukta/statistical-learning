{
 "cells": [
  {
   "cell_type": "code",
   "execution_count": null,
   "metadata": {},
   "outputs": [],
   "source": [
    "''' \n",
    "@@ Authur: Sanyukta Suman\n",
    "\n",
    "Which kind of data set did you choose for your Project?\n",
    "\n",
    "Answer- I have choosen the dataset which contains movie reviews from Rotten Tomatoes.\n",
    "\n",
    "There are four features in this data set. They are:\n",
    "1. Date -Date the review is posted.\n",
    "2. Rating- User rating out of 5 (where 1 being the lowest and 5 being the highest)\n",
    "3. Helpful- How many users think the review has been helpful.\n",
    "4. Review- TextReview Description.\n",
    "\n",
    "\n",
    "------ \n",
    "------ Objective of this project is multi-class classification,instead of positive/negative\n",
    "prediction, we will classify phares in sentiment scale 0 to 4\n",
    "where 0 is the lowest sentiment (negative) and 4 is the highest sentiment(positive)-------\n",
    "'''\n",
    "\n"
   ]
  },
  {
   "cell_type": "code",
   "execution_count": null,
   "metadata": {},
   "outputs": [],
   "source": [
    "# Describe the RV-Fuction\n",
    "'''The RV-function of the dataset is procedure of giving rating, measure of helpfullness and typing Review Text'''\n",
    "\n",
    "#Define Data Value Space \n",
    "'''Data value set(DVS) ={PhraseId, SentenceId, Phrase, Sentiment}'''"
   ]
  },
  {
   "cell_type": "code",
   "execution_count": 1,
   "metadata": {},
   "outputs": [],
   "source": [
    "#importing important libraries\n",
    "import pandas as pd\n",
    "import numpy as np\n",
    "\n",
    "import matplotlib.pyplot as plt\n",
    "from matplotlib.pyplot import figure\n",
    "%matplotlib inline\n",
    "import seaborn as sns\n",
    "\n",
    "import nltk\n",
    "from nltk.corpus import stopwords\n",
    "from nltk.stem import SnowballStemmer\n",
    "from nltk.stem import WordNetLemmatizer\n",
    "\n",
    "import unicodedata, re, string\n",
    "from sklearn.decomposition import PCA\n",
    "from sklearn.preprocessing import LabelEncoder,OneHotEncoder\n",
    "from sklearn.manifold import TSNE\n",
    "\n",
    "from scipy import stats\n",
    "\n",
    "import torch\n",
    "import torch.nn as nn\n",
    "from torch.utils.data import TensorDataset, DataLoader\n",
    "\n",
    "import warnings\n",
    "warnings.filterwarnings(\"ignore\")"
   ]
  },
  {
   "cell_type": "code",
   "execution_count": 2,
   "metadata": {},
   "outputs": [],
   "source": [
    "#reading review data from the csv file \"Reviews.csv\"\n",
    "\n",
    "df_train = pd.read_csv(\"train.tsv\", sep = \"\\t\", nrows=100)\n",
    "df_test = pd.read_csv(\"test.tsv\", sep = \"\\t\", nrows=100)\n"
   ]
  },
  {
   "cell_type": "code",
   "execution_count": null,
   "metadata": {
    "scrolled": true
   },
   "outputs": [],
   "source": [
    "#Printing 100 samples from the data set\n",
    "df_test.head()\n",
    "df_test.shape"
   ]
  },
  {
   "cell_type": "code",
   "execution_count": null,
   "metadata": {},
   "outputs": [],
   "source": [
    "df_train.head()\n",
    "df_train.shape"
   ]
  },
  {
   "cell_type": "code",
   "execution_count": null,
   "metadata": {},
   "outputs": [],
   "source": [
    "#Train Data description\n",
    "df_train.info()"
   ]
  },
  {
   "cell_type": "code",
   "execution_count": null,
   "metadata": {},
   "outputs": [],
   "source": [
    "df_train ['Phrase'][0]"
   ]
  },
  {
   "cell_type": "code",
   "execution_count": null,
   "metadata": {},
   "outputs": [],
   "source": [
    "#extracting location of rows from the training data set whose sentence id is ==1\n",
    "df_train.loc[df_train['SentenceId'] == 1]"
   ]
  },
  {
   "cell_type": "code",
   "execution_count": null,
   "metadata": {},
   "outputs": [],
   "source": [
    "'''In the train data from the individual movie reviews phrases are taken out\n",
    "of the context and it is split into smaller parts, each part is assigned with the sentiment category.\n",
    "The data is fairly clean. Before the pre-processing of data, let's look at the data distribution,to see if the classes \n",
    "in training data is fairly distributed.\n",
    "\n",
    "'''"
   ]
  },
  {
   "cell_type": "code",
   "execution_count": null,
   "metadata": {},
   "outputs": [],
   "source": [
    "senti_count=[]\n",
    "senti_count=df_train['Sentiment'].value_counts()"
   ]
  },
  {
   "cell_type": "code",
   "execution_count": null,
   "metadata": {},
   "outputs": [],
   "source": [
    "senti_count"
   ]
  },
  {
   "cell_type": "code",
   "execution_count": null,
   "metadata": {},
   "outputs": [],
   "source": [
    "#Data distribution Ananlysis\n",
    "\n",
    "#Let's see the distribution of data on the basis of sentiments\n",
    "\n",
    "dist = df_train.groupby([\"Sentiment\"]).size()\n",
    "\n",
    "fig, ax = plt.subplots(figsize=(12,8))\n",
    "\n",
    "sns.barplot(dist.keys(), dist.values);\n",
    "plt.savefig('senti_count')"
   ]
  },
  {
   "cell_type": "code",
   "execution_count": null,
   "metadata": {},
   "outputs": [],
   "source": [
    "from scipy.stats import norm, kurtosis\n",
    "kurtosis(df_train)"
   ]
  },
  {
   "cell_type": "code",
   "execution_count": null,
   "metadata": {},
   "outputs": [],
   "source": [
    "df_train.drop('PhraseId', axis=1).plot(kind='box', subplots=True, layout=(2,2), sharex=False, sharey=False, figsize=(9,9), \n",
    "                                        title='Box Plot for each input variable')\n",
    "#plt.savefig('fruits_box')\n",
    "plt.show()"
   ]
  },
  {
   "cell_type": "code",
   "execution_count": null,
   "metadata": {},
   "outputs": [],
   "source": [
    "'''Sentiment class seems to follow normal distribution, with most frequently distributed class \n",
    "being 2.''' "
   ]
  },
  {
   "cell_type": "code",
   "execution_count": null,
   "metadata": {},
   "outputs": [],
   "source": [
    "'''Data in the form of text needs to be tokenized into numeric format. \n",
    "Before converting words into numerics, I will filter out spaces and puntuation and use lemmetization to reduce dimensionality.\n",
    "\n",
    "Note: At this point, I will not filter out stop words, because in case of movie phrases such as \n",
    "\"this movie is shit\" and \"this is movie is the shit\" has totally different meaning, therefore I want to keep this\n",
    "information since it will help me analyze the sentiment of the review better'''"
   ]
  },
  {
   "cell_type": "code",
   "execution_count": 3,
   "metadata": {},
   "outputs": [
    {
     "data": {
      "text/plain": [
       "0    A series of escapades demonstrating the adage ...\n",
       "1    A series of escapades demonstrating the adage ...\n",
       "2                                             A series\n",
       "3                                                    A\n",
       "4                                               series\n",
       "5    of escapades demonstrating the adage that what...\n",
       "6                                                   of\n",
       "7    escapades demonstrating the adage that what is...\n",
       "8                                            escapades\n",
       "9    demonstrating the adage that what is good for ...\n",
       "Name: Phrase, dtype: object"
      ]
     },
     "execution_count": 3,
     "metadata": {},
     "output_type": "execute_result"
    }
   ],
   "source": [
    "df_train['Phrase'][:10]"
   ]
  },
  {
   "cell_type": "code",
   "execution_count": 3,
   "metadata": {},
   "outputs": [
    {
     "data": {
      "text/plain": [
       "'!\"#$%&\\'()*+,-./:;<=>?@[\\\\]^_`{|}~'"
      ]
     },
     "execution_count": 3,
     "metadata": {},
     "output_type": "execute_result"
    }
   ],
   "source": [
    "import string\n",
    "string.punctuation"
   ]
  },
  {
   "cell_type": "code",
   "execution_count": 4,
   "metadata": {},
   "outputs": [],
   "source": [
    "#removing puntuations\n",
    "df_train.Phrase=df_train.Phrase.apply(lambda x: x.translate(str.maketrans('','',string.punctuation)).lower())"
   ]
  },
  {
   "cell_type": "code",
   "execution_count": 5,
   "metadata": {},
   "outputs": [],
   "source": [
    "#Tokenization of sentence\n",
    "df_train.Phrase=df_train.Phrase.str.split(' ')"
   ]
  },
  {
   "cell_type": "code",
   "execution_count": null,
   "metadata": {},
   "outputs": [],
   "source": [
    "df_train['Phrase'][:10]"
   ]
  },
  {
   "cell_type": "code",
   "execution_count": 6,
   "metadata": {},
   "outputs": [
    {
     "data": {
      "text/plain": [
       "0    [a, seri, of, escapad, demonstr, the, adag, th...\n",
       "1    [a, seri, of, escapad, demonstr, the, adag, th...\n",
       "2                                            [a, seri]\n",
       "3                                                  [a]\n",
       "4                                               [seri]\n",
       "Name: Phrase, dtype: object"
      ]
     },
     "execution_count": 6,
     "metadata": {},
     "output_type": "execute_result"
    }
   ],
   "source": [
    "#Remove stopwords\n",
    "\n",
    "from nltk.stem import PorterStemmer\n",
    "porter=PorterStemmer()\n",
    "df_train.Phrase=df_train.Phrase.apply(lambda x: [porter.stem(w) for w in x])\n",
    "stopwords_e=stopwords.words('english')\n",
    "\n",
    "df_train.Phrase=[w for w in df_train.Phrase if w not in stopwords_e]\n",
    "df_train.Phrase.head()"
   ]
  },
  {
   "cell_type": "code",
   "execution_count": 7,
   "metadata": {},
   "outputs": [],
   "source": [
    "#Lemmetize words\n",
    "lemmar=WordNetLemmatizer()\n",
    "df_train.Phrase=df_train.Phrase.apply(lambda x: [lemmar.lemmatize(w) for w in x])\n",
    "\n",
    "#stemming words\n",
    "snow=SnowballStemmer('english')\n",
    "df_train.Phrase=df_train.Phrase.apply(lambda x: [snow.stem(w) for w in x])"
   ]
  },
  {
   "cell_type": "code",
   "execution_count": 8,
   "metadata": {},
   "outputs": [
    {
     "data": {
      "text/plain": [
       "0    [a, seri, of, escapad, demonstr, the, adag, th...\n",
       "1    [a, seri, of, escapad, demonstr, the, adag, th...\n",
       "2                                            [a, seri]\n",
       "3                                                  [a]\n",
       "4                                               [seri]\n",
       "5    [of, escapad, demonstr, the, adag, that, what,...\n",
       "6                                                 [of]\n",
       "7    [escapad, demonstr, the, adag, that, what, is,...\n",
       "8                                            [escapad]\n",
       "9    [demonstr, the, adag, that, what, is, good, fo...\n",
       "Name: Phrase, dtype: object"
      ]
     },
     "execution_count": 8,
     "metadata": {},
     "output_type": "execute_result"
    }
   ],
   "source": [
    "df_train['Phrase'][:10]"
   ]
  },
  {
   "cell_type": "code",
   "execution_count": 9,
   "metadata": {},
   "outputs": [
    {
     "data": {
      "text/plain": [
       "array([[0.21906019, 0.15361191, 0.1718349 , ..., 0.        , 0.        ,\n",
       "        0.        ],\n",
       "       [0.1989937 , 0.2790813 , 0.        , ..., 0.        , 0.        ,\n",
       "        0.        ],\n",
       "       [0.5197641 , 0.        , 0.        , ..., 0.        , 0.        ,\n",
       "        0.        ],\n",
       "       ...,\n",
       "       [0.        , 0.        , 0.        , ..., 0.        , 0.        ,\n",
       "        0.        ],\n",
       "       [0.        , 0.        , 0.        , ..., 0.        , 0.        ,\n",
       "        0.        ],\n",
       "       [0.        , 0.        , 0.        , ..., 0.        , 0.        ,\n",
       "        0.        ]])"
      ]
     },
     "execution_count": 9,
     "metadata": {},
     "output_type": "execute_result"
    }
   ],
   "source": [
    "from sklearn.feature_extraction.text import TfidfVectorizer,CountVectorizer,TfidfTransformer\n",
    "vector=TfidfVectorizer(token_pattern='(?u)\\\\b\\\\w+\\\\b')\n",
    "\n",
    "df_train.Phrase=df_train.Phrase.apply(lambda x: ' '.join(x))\n",
    "vector1=vector.fit(df_train.Phrase)\n",
    "\n",
    "df_train_feature=vector1.transform(df_train.Phrase)\n",
    "df_train_feature.toarray()\n"
   ]
  },
  {
   "cell_type": "code",
   "execution_count": 10,
   "metadata": {},
   "outputs": [],
   "source": [
    "from sklearn.linear_model import LogisticRegression\n",
    "from sklearn.metrics import classification_report, confusion_matrix\n",
    "lr=LogisticRegression(multi_class='ovr')"
   ]
  },
  {
   "cell_type": "code",
   "execution_count": 11,
   "metadata": {},
   "outputs": [
    {
     "data": {
      "text/plain": [
       "array([[ 0.31736048, -0.09186175, -0.03585558,  0.31689351, -0.00899072,\n",
       "        -0.23210304,  0.25093287, -0.04353209, -0.20138992,  0.01835783,\n",
       "         0.03342382,  0.03342382, -0.13260162,  0.02886438, -0.18499961,\n",
       "        -0.07348288,  0.47415691,  0.47415691,  0.12610809, -0.13022548,\n",
       "        -0.23210304, -0.14655932, -0.03209619, -0.07635674,  0.18795618,\n",
       "         0.51076297,  0.04489707,  0.60831519,  0.47415691, -0.15215348,\n",
       "        -0.07635674, -0.15141279, -0.00370793,  0.47415691,  0.02191753,\n",
       "         0.04981103,  0.12610809, -0.02869951, -0.10928643,  0.26869834,\n",
       "         0.47415691,  0.47415691,  0.25358698, -0.05443713,  0.34424907,\n",
       "         0.00683312, -0.1911994 ,  0.47415691],\n",
       "       [ 0.06131413,  0.32798898,  0.22910476, -0.08356008, -0.65857862,\n",
       "        -1.03313046, -0.04502771,  0.2452186 , -1.57040434,  0.14001179,\n",
       "         0.20578998, -0.65116773,  0.12082367,  0.20846068,  0.16616684,\n",
       "        -0.82970684, -0.40064996, -0.40064996,  0.14670356, -0.29881587,\n",
       "        -1.03313046, -0.07414425,  0.23405599,  0.30819263,  0.06458607,\n",
       "        -0.28600885,  0.1320945 , -0.08579371, -0.40064996, -0.45250846,\n",
       "         0.30819263, -0.70964844,  0.17289553, -0.40064996,  0.17067185,\n",
       "         0.24825323,  0.14670356,  0.24305099,  0.33236435, -0.40369681,\n",
       "        -0.40064996, -0.40064996, -0.01201699,  0.31422205, -0.00491094,\n",
       "         0.17367376, -0.50178175, -0.40064996],\n",
       "       [-0.46425764, -0.31321294, -0.21643881, -0.28571023,  0.66625973,\n",
       "         1.08869755, -0.23024169, -0.25733903,  0.76036159, -0.19008536,\n",
       "        -0.26228251,  0.62615516, -0.04327324, -0.29683302, -0.05829305,\n",
       "         0.89369963, -0.05023687, -0.05023687, -0.31259967, -0.0844408 ,\n",
       "         1.08869755, -0.23188572, -0.26324181, -0.31220947, -0.32819423,\n",
       "        -0.24164112, -0.20463618, -0.64443703, -0.05023687,  0.20513487,\n",
       "        -0.31220947,  0.21541546, -0.20803109, -0.05023687, -0.22893472,\n",
       "        -0.40031489, -0.31259967, -0.25604759, -0.35607861,  0.02073563,\n",
       "        -0.05023687, -0.05023687, -0.30526803, -0.30400335, -0.40569555,\n",
       "        -0.22518344,  0.11436447, -0.05023687],\n",
       "       [-0.31110742, -0.1836437 , -0.14098976, -0.18794465, -0.13281001,\n",
       "         0.14184249, -0.14226755, -0.14869218,  1.10544659, -0.10848988,\n",
       "        -0.13446889, -0.13446889, -0.23418301, -0.17916213, -0.25205867,\n",
       "        -0.21014458, -0.0316789 , -0.0316789 , -0.19993079,  0.50534755,\n",
       "         0.14184249,  0.2073163 , -0.1665912 , -0.19938239, -0.22064689,\n",
       "        -0.15204085, -0.12356243, -0.42757478, -0.0316789 ,  0.40189979,\n",
       "        -0.19938239,  0.62153289, -0.12731728, -0.0316789 , -0.14240076,\n",
       "        -0.27196862, -0.19993079, -0.1385014 , -0.39354068,  0.09912419,\n",
       "        -0.0316789 , -0.0316789 , -0.20313673, -0.15752795, -0.2662811 ,\n",
       "        -0.1403657 ,  0.5066206 , -0.0316789 ]])"
      ]
     },
     "execution_count": 11,
     "metadata": {},
     "output_type": "execute_result"
    }
   ],
   "source": [
    "lr=lr.fit(df_train_feature,df_train.Sentiment)\n",
    "## Coefficient\n",
    "lr.coef_"
   ]
  },
  {
   "cell_type": "code",
   "execution_count": 12,
   "metadata": {},
   "outputs": [],
   "source": [
    "train_predict=lr.predict(df_train_feature)"
   ]
  },
  {
   "cell_type": "code",
   "execution_count": 13,
   "metadata": {},
   "outputs": [
    {
     "data": {
      "text/plain": [
       "1     6\n",
       "2    80\n",
       "3    10\n",
       "4     4\n",
       "Name: Sentiment, dtype: int64"
      ]
     },
     "execution_count": 13,
     "metadata": {},
     "output_type": "execute_result"
    }
   ],
   "source": [
    "## the number of data in each class\n",
    "df_train.Sentiment.value_counts().sort_index()"
   ]
  },
  {
   "cell_type": "code",
   "execution_count": 18,
   "metadata": {},
   "outputs": [
    {
     "data": {
      "text/plain": [
       "(array([2, 3], dtype=int64), array([97,  3], dtype=int64))"
      ]
     },
     "execution_count": 18,
     "metadata": {},
     "output_type": "execute_result"
    }
   ],
   "source": [
    "## number of data in predict result\n",
    "np.unique(train_predict,return_counts=True)"
   ]
  },
  {
   "cell_type": "code",
   "execution_count": 21,
   "metadata": {},
   "outputs": [
    {
     "data": {
      "text/plain": [
       "<matplotlib.axes._subplots.AxesSubplot at 0x1eda5f954e0>"
      ]
     },
     "execution_count": 21,
     "metadata": {},
     "output_type": "execute_result"
    },
    {
     "data": {
      "image/png": "[encoded data removed]",
      "text/plain": [
       "<Figure size 360x360 with 1 Axes>"
      ]
     },
     "metadata": {
      "needs_background": "light"
     },
     "output_type": "display_data"
    }
   ],
   "source": [
    "## Plot predict result\n",
    "plt.figure(figsize=(5,5))\n",
    "ax=plt.axes()\n",
    "ax.set_title('Number of sentiment class in logistic regression')\n",
    "sns.countplot(train_predict)"
   ]
  },
  {
   "cell_type": "code",
   "execution_count": 14,
   "metadata": {
    "scrolled": true
   },
   "outputs": [
    {
     "name": "stdout",
     "output_type": "stream",
     "text": [
      "              precision    recall  f1-score   support\n",
      "\n",
      "           1       0.00      0.00      0.00         0\n",
      "           2       1.00      0.82      0.90        97\n",
      "           3       0.30      1.00      0.46         3\n",
      "           4       0.00      0.00      0.00         0\n",
      "\n",
      "    accuracy                           0.83       100\n",
      "   macro avg       0.33      0.46      0.34       100\n",
      "weighted avg       0.98      0.83      0.89       100\n",
      "\n"
     ]
    }
   ],
   "source": [
    "print(classification_report(train_predict, df_train.Sentiment))"
   ]
  },
  {
   "cell_type": "code",
   "execution_count": 24,
   "metadata": {},
   "outputs": [
    {
     "data": {
      "text/plain": [
       "DecisionTreeClassifier(class_weight=None, criterion='gini', max_depth=None,\n",
       "                       max_features=None, max_leaf_nodes=None,\n",
       "                       min_impurity_decrease=0.0, min_impurity_split=None,\n",
       "                       min_samples_leaf=1, min_samples_split=2,\n",
       "                       min_weight_fraction_leaf=0.0, presort=False,\n",
       "                       random_state=None, splitter='best')"
      ]
     },
     "execution_count": 24,
     "metadata": {},
     "output_type": "execute_result"
    }
   ],
   "source": [
    "from sklearn.tree import DecisionTreeClassifier\n",
    "ds=DecisionTreeClassifier()\n",
    "ds.fit(df_train_feature, df_train.Sentiment)\n"
   ]
  },
  {
   "cell_type": "code",
   "execution_count": 25,
   "metadata": {},
   "outputs": [
    {
     "name": "stdout",
     "output_type": "stream",
     "text": [
      "[0.09292447 0.         0.         0.         0.05299527 0.05760369\n",
      " 0.         0.         0.22860153 0.         0.         0.05425707\n",
      " 0.         0.02352518 0.         0.10062159 0.         0.09886312\n",
      " 0.         0.         0.05759935 0.         0.         0.\n",
      " 0.         0.06570255 0.         0.         0.         0.\n",
      " 0.         0.08267854 0.         0.         0.         0.03982477\n",
      " 0.         0.         0.         0.04480287 0.         0.\n",
      " 0.         0.         0.         0.         0.         0.        ]\n"
     ]
    }
   ],
   "source": [
    "print(ds.feature_importances_)"
   ]
  },
  {
   "cell_type": "code",
   "execution_count": 26,
   "metadata": {},
   "outputs": [],
   "source": [
    "ds_train_pred=ds.predict(df_train_feature)"
   ]
  },
  {
   "cell_type": "code",
   "execution_count": 28,
   "metadata": {},
   "outputs": [
    {
     "data": {
      "text/plain": [
       "1     6\n",
       "2    80\n",
       "3    10\n",
       "4     4\n",
       "Name: Sentiment, dtype: int64"
      ]
     },
     "execution_count": 28,
     "metadata": {},
     "output_type": "execute_result"
    }
   ],
   "source": [
    "df_train.Sentiment.value_counts().sort_index()"
   ]
  },
  {
   "cell_type": "code",
   "execution_count": 29,
   "metadata": {},
   "outputs": [
    {
     "data": {
      "text/plain": [
       "(array([1, 2, 3, 4], dtype=int64), array([ 6, 80, 11,  3], dtype=int64))"
      ]
     },
     "execution_count": 29,
     "metadata": {},
     "output_type": "execute_result"
    }
   ],
   "source": [
    "## Number of predict class\n",
    "np.unique(ds_train_pred,return_counts=True)"
   ]
  },
  {
   "cell_type": "code",
   "execution_count": 33,
   "metadata": {},
   "outputs": [
    {
     "data": {
      "text/plain": [
       "<matplotlib.axes._subplots.AxesSubplot at 0x1eda5d107b8>"
      ]
     },
     "execution_count": 33,
     "metadata": {},
     "output_type": "execute_result"
    },
    {
     "data": {
      "image/png": "[encoded data removed]",
      "text/plain": [
       "<Figure size 720x360 with 1 Axes>"
      ]
     },
     "metadata": {
      "needs_background": "light"
     },
     "output_type": "display_data"
    }
   ],
   "source": [
    "plt.figure(figsize=(10,5))\n",
    "ax=plt.axes()\n",
    "ax.set_title('Number of sentiment class in decision tree')\n",
    "sns.countplot(ds_train_pred)"
   ]
  },
  {
   "cell_type": "code",
   "execution_count": 32,
   "metadata": {},
   "outputs": [
    {
     "name": "stdout",
     "output_type": "stream",
     "text": [
      "              precision    recall  f1-score   support\n",
      "\n",
      "           1       1.00      1.00      1.00         6\n",
      "           2       1.00      1.00      1.00        80\n",
      "           3       1.00      0.91      0.95        11\n",
      "           4       0.75      1.00      0.86         3\n",
      "\n",
      "    accuracy                           0.99       100\n",
      "   macro avg       0.94      0.98      0.95       100\n",
      "weighted avg       0.99      0.99      0.99       100\n",
      "\n"
     ]
    }
   ],
   "source": [
    "print(classification_report(ds_train_pred, df_train.Sentiment))\n"
   ]
  },
  {
   "cell_type": "code",
   "execution_count": 35,
   "metadata": {},
   "outputs": [
    {
     "data": {
      "text/plain": [
       "RandomForestClassifier(bootstrap=True, class_weight=None, criterion='gini',\n",
       "                       max_depth=None, max_features='auto', max_leaf_nodes=None,\n",
       "                       min_impurity_decrease=0.0, min_impurity_split=None,\n",
       "                       min_samples_leaf=1, min_samples_split=2,\n",
       "                       min_weight_fraction_leaf=0.0, n_estimators=10,\n",
       "                       n_jobs=None, oob_score=False, random_state=None,\n",
       "                       verbose=0, warm_start=False)"
      ]
     },
     "execution_count": 35,
     "metadata": {},
     "output_type": "execute_result"
    }
   ],
   "source": [
    "from sklearn.ensemble import RandomForestClassifier\n",
    "rf=RandomForestClassifier()\n",
    "rf.fit(df_train_feature, df_train.Sentiment)"
   ]
  },
  {
   "cell_type": "code",
   "execution_count": 38,
   "metadata": {},
   "outputs": [
    {
     "name": "stdout",
     "output_type": "stream",
     "text": [
      "[0.02279513 0.00046733 0.00225712 0.00896445 0.07612871 0.07612437\n",
      " 0.0223314  0.00199093 0.1198458  0.         0.0003047  0.07902359\n",
      " 0.02266639 0.00038403 0.01370687 0.09786638 0.         0.01018331\n",
      " 0.00098483 0.02255877 0.05524201 0.02266307 0.00030883 0.00099698\n",
      " 0.01873889 0.03508091 0.00762131 0.01487438 0.04510634 0.01704658\n",
      " 0.00201698 0.0649958  0.00225347 0.         0.0002246  0.00571838\n",
      " 0.00492724 0.00047125 0.02419178 0.01049142 0.0379709  0.\n",
      " 0.00581829 0.00133728 0.00974649 0.00040144 0.0331713  0.        ]\n"
     ]
    },
    {
     "data": {
      "text/plain": [
       "<matplotlib.axes._subplots.AxesSubplot at 0x1eda5bbd2e8>"
      ]
     },
     "execution_count": 38,
     "metadata": {},
     "output_type": "execute_result"
    },
    {
     "data": {
      "image/png": "[encoded data removed]",
      "text/plain": [
       "<Figure size 720x360 with 1 Axes>"
      ]
     },
     "metadata": {
      "needs_background": "light"
     },
     "output_type": "display_data"
    }
   ],
   "source": [
    "print(rf.feature_importances_)\n",
    "rf_train_pred=rf.predict(df_train_feature)\n",
    "plt.figure(figsize=(10,5))\n",
    "ax=plt.axes()\n",
    "ax.set_title('Random forest')\n",
    "sns.countplot(rf_train_pred)"
   ]
  },
  {
   "cell_type": "code",
   "execution_count": 39,
   "metadata": {},
   "outputs": [
    {
     "name": "stdout",
     "output_type": "stream",
     "text": [
      "              precision    recall  f1-score   support\n",
      "\n",
      "           1       1.00      1.00      1.00         6\n",
      "           2       1.00      0.98      0.99        82\n",
      "           3       0.90      0.82      0.86        11\n",
      "           4       0.25      1.00      0.40         1\n",
      "\n",
      "    accuracy                           0.96       100\n",
      "   macro avg       0.79      0.95      0.81       100\n",
      "weighted avg       0.98      0.96      0.97       100\n",
      "\n"
     ]
    }
   ],
   "source": [
    "print(classification_report(rf_train_pred, df_train.Sentiment))"
   ]
  },
  {
   "cell_type": "code",
   "execution_count": 44,
   "metadata": {},
   "outputs": [],
   "source": [
    "## Import every packages\n",
    "from scipy import stats\n",
    "import string\n",
    "from nltk.corpus import stopwords\n",
    "stopwords_e=stopwords.words('english')\n",
    "from nltk.stem import SnowballStemmer\n",
    "snow=SnowballStemmer('english')\n",
    "from sklearn import svm\n",
    "from sklearn.linear_model import LogisticRegression\n",
    "from sklearn.ensemble import  RandomForestClassifier\n",
    "from sklearn.metrics import classification_report, confusion_matrix\n",
    "from sklearn.tree import DecisionTreeClassifier\n",
    "from sklearn.ensemble import RandomForestClassifier\n",
    "from sklearn.feature_extraction.text import TfidfVectorizer,CountVectorizer,TfidfTransformer\n",
    "vector=TfidfVectorizer(stop_words='english')"
   ]
  },
  {
   "cell_type": "code",
   "execution_count": 45,
   "metadata": {},
   "outputs": [],
   "source": [
    "## Preprocess function\n",
    "def data_preprocess(text):\n",
    "    text_nonpunc=[w.lower() for w in text if w not in string.punctuation]\n",
    "    text_nonpunc=''.join(text_nonpunc)\n",
    "    text_rmstop=[x for x in text_nonpunc.split(' ') if x not in stopwords_e]\n",
    "    text_stem=[snow.stem(w) for w in text_rmstop]\n",
    "    text1=' '.join(text_stem)\n",
    "    return (text1)"
   ]
  },
  {
   "cell_type": "code",
   "execution_count": 46,
   "metadata": {},
   "outputs": [],
   "source": [
    "## Notice: Class name and the first def should have a blank line\n",
    "class EstimatorSelection:\n",
    "    \n",
    "    def __init__(self, models):\n",
    "        self.models=models\n",
    "        self.keys=models.keys()\n",
    "        self.results={}\n",
    "        self.modelfit={}\n",
    "        self.modelpredict={}\n",
    "    def fit(self, x, y):\n",
    "        x1=x.apply(lambda i: data_preprocess(i))\n",
    "        x_feature1=vector.fit_transform(x1)\n",
    "        for key in self.keys:\n",
    "            model=self.models[key]\n",
    "            self.modelfit[key]=model.fit(x_feature1,y)\n",
    "            y_pred=model.predict(x_feature1)\n",
    "            self.results[key]=classification_report(y, y_pred,output_dict=True)\n",
    "    def predict(self,test_x):\n",
    "        test_x1=test_x.apply(lambda i: data_preprocess(i))\n",
    "        test_feature1=vector.transform(test_x1)\n",
    "        test_frames=[]\n",
    "        for key in self.keys:\n",
    "            modelfit=self.modelfit[key]\n",
    "            test_y=modelfit.predict(test_feature1)\n",
    "            test_frame=pd.DataFrame(test_y,columns=[key])\n",
    "            test_frames.append(test_frame)\n",
    "        predict_frame=pd.concat(test_frames,axis=1)            \n",
    "        return(predict_frame)     \n",
    "    def summary(self):\n",
    "        Frames=[]\n",
    "        for key in self.keys:\n",
    "            result=self.results[key]\n",
    "            Frame=pd.DataFrame(result['macro avg'], index=[key])\n",
    "            Frames.append(Frame)\n",
    "        result_sum=pd.concat(Frames)\n",
    "        return result_sum.iloc[:,:3]"
   ]
  },
  {
   "cell_type": "code",
   "execution_count": 47,
   "metadata": {},
   "outputs": [],
   "source": [
    "## Models want to predict on test data\n",
    "models = { \n",
    "    'LogisticClassifier': LogisticRegression(multi_class='ovr'),\n",
    "    'RandomforestClassifier':RandomForestClassifier(),\n",
    "    'DecisionTreeClassifier':DecisionTreeClassifier()\n",
    "}\n"
   ]
  },
  {
   "cell_type": "code",
   "execution_count": 48,
   "metadata": {},
   "outputs": [],
   "source": [
    "model_compare=EstimatorSelection(models)"
   ]
  },
  {
   "cell_type": "code",
   "execution_count": 49,
   "metadata": {},
   "outputs": [],
   "source": [
    "model_compare.fit(df_train.Phrase, df_train.Sentiment)"
   ]
  },
  {
   "cell_type": "code",
   "execution_count": 51,
   "metadata": {},
   "outputs": [
    {
     "data": {
      "text/html": [
       "<div>\n",
       "<style scoped>\n",
       "    .dataframe tbody tr th:only-of-type {\n",
       "        vertical-align: middle;\n",
       "    }\n",
       "\n",
       "    .dataframe tbody tr th {\n",
       "        vertical-align: top;\n",
       "    }\n",
       "\n",
       "    .dataframe thead th {\n",
       "        text-align: right;\n",
       "    }\n",
       "</style>\n",
       "<table border=\"1\" class=\"dataframe\">\n",
       "  <thead>\n",
       "    <tr style=\"text-align: right;\">\n",
       "      <th></th>\n",
       "      <th>precision</th>\n",
       "      <th>recall</th>\n",
       "      <th>f1-score</th>\n",
       "    </tr>\n",
       "  </thead>\n",
       "  <tbody>\n",
       "    <tr>\n",
       "      <td>LogisticClassifier</td>\n",
       "      <td>0.454082</td>\n",
       "      <td>0.300000</td>\n",
       "      <td>0.308052</td>\n",
       "    </tr>\n",
       "    <tr>\n",
       "      <td>RandomforestClassifier</td>\n",
       "      <td>0.857123</td>\n",
       "      <td>0.756250</td>\n",
       "      <td>0.785384</td>\n",
       "    </tr>\n",
       "    <tr>\n",
       "      <td>DecisionTreeClassifier</td>\n",
       "      <td>0.903869</td>\n",
       "      <td>0.776042</td>\n",
       "      <td>0.831402</td>\n",
       "    </tr>\n",
       "  </tbody>\n",
       "</table>\n",
       "</div>"
      ],
      "text/plain": [
       "                        precision    recall  f1-score\n",
       "LogisticClassifier       0.454082  0.300000  0.308052\n",
       "RandomforestClassifier   0.857123  0.756250  0.785384\n",
       "DecisionTreeClassifier   0.903869  0.776042  0.831402"
      ]
     },
     "execution_count": 51,
     "metadata": {},
     "output_type": "execute_result"
    }
   ],
   "source": [
    "summary=model_compare.summary()\n",
    "summary"
   ]
  },
  {
   "cell_type": "code",
   "execution_count": 53,
   "metadata": {},
   "outputs": [
    {
     "data": {
      "text/html": [
       "<div>\n",
       "<style scoped>\n",
       "    .dataframe tbody tr th:only-of-type {\n",
       "        vertical-align: middle;\n",
       "    }\n",
       "\n",
       "    .dataframe tbody tr th {\n",
       "        vertical-align: top;\n",
       "    }\n",
       "\n",
       "    .dataframe thead th {\n",
       "        text-align: right;\n",
       "    }\n",
       "</style>\n",
       "<table border=\"1\" class=\"dataframe\">\n",
       "  <thead>\n",
       "    <tr style=\"text-align: right;\">\n",
       "      <th></th>\n",
       "      <th>LogisticClassifier</th>\n",
       "      <th>RandomforestClassifier</th>\n",
       "      <th>DecisionTreeClassifier</th>\n",
       "    </tr>\n",
       "  </thead>\n",
       "  <tbody>\n",
       "    <tr>\n",
       "      <td>0</td>\n",
       "      <td>2</td>\n",
       "      <td>2</td>\n",
       "      <td>2</td>\n",
       "    </tr>\n",
       "    <tr>\n",
       "      <td>1</td>\n",
       "      <td>2</td>\n",
       "      <td>2</td>\n",
       "      <td>2</td>\n",
       "    </tr>\n",
       "    <tr>\n",
       "      <td>2</td>\n",
       "      <td>2</td>\n",
       "      <td>2</td>\n",
       "      <td>2</td>\n",
       "    </tr>\n",
       "    <tr>\n",
       "      <td>3</td>\n",
       "      <td>2</td>\n",
       "      <td>2</td>\n",
       "      <td>2</td>\n",
       "    </tr>\n",
       "    <tr>\n",
       "      <td>4</td>\n",
       "      <td>2</td>\n",
       "      <td>2</td>\n",
       "      <td>2</td>\n",
       "    </tr>\n",
       "    <tr>\n",
       "      <td>...</td>\n",
       "      <td>...</td>\n",
       "      <td>...</td>\n",
       "      <td>...</td>\n",
       "    </tr>\n",
       "    <tr>\n",
       "      <td>95</td>\n",
       "      <td>2</td>\n",
       "      <td>2</td>\n",
       "      <td>2</td>\n",
       "    </tr>\n",
       "    <tr>\n",
       "      <td>96</td>\n",
       "      <td>2</td>\n",
       "      <td>2</td>\n",
       "      <td>2</td>\n",
       "    </tr>\n",
       "    <tr>\n",
       "      <td>97</td>\n",
       "      <td>2</td>\n",
       "      <td>2</td>\n",
       "      <td>2</td>\n",
       "    </tr>\n",
       "    <tr>\n",
       "      <td>98</td>\n",
       "      <td>2</td>\n",
       "      <td>2</td>\n",
       "      <td>2</td>\n",
       "    </tr>\n",
       "    <tr>\n",
       "      <td>99</td>\n",
       "      <td>2</td>\n",
       "      <td>2</td>\n",
       "      <td>2</td>\n",
       "    </tr>\n",
       "  </tbody>\n",
       "</table>\n",
       "<p>100 rows × 3 columns</p>\n",
       "</div>"
      ],
      "text/plain": [
       "    LogisticClassifier  RandomforestClassifier  DecisionTreeClassifier\n",
       "0                    2                       2                       2\n",
       "1                    2                       2                       2\n",
       "2                    2                       2                       2\n",
       "3                    2                       2                       2\n",
       "4                    2                       2                       2\n",
       "..                 ...                     ...                     ...\n",
       "95                   2                       2                       2\n",
       "96                   2                       2                       2\n",
       "97                   2                       2                       2\n",
       "98                   2                       2                       2\n",
       "99                   2                       2                       2\n",
       "\n",
       "[100 rows x 3 columns]"
      ]
     },
     "execution_count": 53,
     "metadata": {},
     "output_type": "execute_result"
    }
   ],
   "source": [
    "predict_result=model_compare.predict(df_test.Phrase)\n",
    "predict_result"
   ]
  },
  {
   "cell_type": "code",
   "execution_count": 55,
   "metadata": {},
   "outputs": [],
   "source": [
    "predict_result1=predict_result.reset_index().rename(columns={'index':'case'})\n",
    "predict_result2=pd.melt(predict_result1,id_vars='case', value_vars=['LogisticClassifier', 'RandomforestClassifier', 'DecisionTreeClassifier'])"
   ]
  },
  {
   "cell_type": "code",
   "execution_count": 56,
   "metadata": {},
   "outputs": [
    {
     "data": {
      "text/html": [
       "<div>\n",
       "<style scoped>\n",
       "    .dataframe tbody tr th:only-of-type {\n",
       "        vertical-align: middle;\n",
       "    }\n",
       "\n",
       "    .dataframe tbody tr th {\n",
       "        vertical-align: top;\n",
       "    }\n",
       "\n",
       "    .dataframe thead th {\n",
       "        text-align: right;\n",
       "    }\n",
       "</style>\n",
       "<table border=\"1\" class=\"dataframe\">\n",
       "  <thead>\n",
       "    <tr style=\"text-align: right;\">\n",
       "      <th></th>\n",
       "      <th>case</th>\n",
       "      <th>variable</th>\n",
       "      <th>value</th>\n",
       "    </tr>\n",
       "  </thead>\n",
       "  <tbody>\n",
       "    <tr>\n",
       "      <td>0</td>\n",
       "      <td>0</td>\n",
       "      <td>LogisticClassifier</td>\n",
       "      <td>2</td>\n",
       "    </tr>\n",
       "    <tr>\n",
       "      <td>1</td>\n",
       "      <td>1</td>\n",
       "      <td>LogisticClassifier</td>\n",
       "      <td>2</td>\n",
       "    </tr>\n",
       "    <tr>\n",
       "      <td>2</td>\n",
       "      <td>2</td>\n",
       "      <td>LogisticClassifier</td>\n",
       "      <td>2</td>\n",
       "    </tr>\n",
       "    <tr>\n",
       "      <td>3</td>\n",
       "      <td>3</td>\n",
       "      <td>LogisticClassifier</td>\n",
       "      <td>2</td>\n",
       "    </tr>\n",
       "    <tr>\n",
       "      <td>4</td>\n",
       "      <td>4</td>\n",
       "      <td>LogisticClassifier</td>\n",
       "      <td>2</td>\n",
       "    </tr>\n",
       "    <tr>\n",
       "      <td>...</td>\n",
       "      <td>...</td>\n",
       "      <td>...</td>\n",
       "      <td>...</td>\n",
       "    </tr>\n",
       "    <tr>\n",
       "      <td>295</td>\n",
       "      <td>95</td>\n",
       "      <td>DecisionTreeClassifier</td>\n",
       "      <td>2</td>\n",
       "    </tr>\n",
       "    <tr>\n",
       "      <td>296</td>\n",
       "      <td>96</td>\n",
       "      <td>DecisionTreeClassifier</td>\n",
       "      <td>2</td>\n",
       "    </tr>\n",
       "    <tr>\n",
       "      <td>297</td>\n",
       "      <td>97</td>\n",
       "      <td>DecisionTreeClassifier</td>\n",
       "      <td>2</td>\n",
       "    </tr>\n",
       "    <tr>\n",
       "      <td>298</td>\n",
       "      <td>98</td>\n",
       "      <td>DecisionTreeClassifier</td>\n",
       "      <td>2</td>\n",
       "    </tr>\n",
       "    <tr>\n",
       "      <td>299</td>\n",
       "      <td>99</td>\n",
       "      <td>DecisionTreeClassifier</td>\n",
       "      <td>2</td>\n",
       "    </tr>\n",
       "  </tbody>\n",
       "</table>\n",
       "<p>300 rows × 3 columns</p>\n",
       "</div>"
      ],
      "text/plain": [
       "     case                variable  value\n",
       "0       0      LogisticClassifier      2\n",
       "1       1      LogisticClassifier      2\n",
       "2       2      LogisticClassifier      2\n",
       "3       3      LogisticClassifier      2\n",
       "4       4      LogisticClassifier      2\n",
       "..    ...                     ...    ...\n",
       "295    95  DecisionTreeClassifier      2\n",
       "296    96  DecisionTreeClassifier      2\n",
       "297    97  DecisionTreeClassifier      2\n",
       "298    98  DecisionTreeClassifier      2\n",
       "299    99  DecisionTreeClassifier      2\n",
       "\n",
       "[300 rows x 3 columns]"
      ]
     },
     "execution_count": 56,
     "metadata": {},
     "output_type": "execute_result"
    }
   ],
   "source": [
    "predict_result2=pd.melt(predict_result1,id_vars='case', value_vars=['LogisticClassifier', 'RandomforestClassifier', 'DecisionTreeClassifier'])\n",
    "predict_result2"
   ]
  },
  {
   "cell_type": "code",
   "execution_count": 57,
   "metadata": {},
   "outputs": [
    {
     "data": {
      "text/html": [
       "<div>\n",
       "<style scoped>\n",
       "    .dataframe tbody tr th:only-of-type {\n",
       "        vertical-align: middle;\n",
       "    }\n",
       "\n",
       "    .dataframe tbody tr th {\n",
       "        vertical-align: top;\n",
       "    }\n",
       "\n",
       "    .dataframe thead th {\n",
       "        text-align: right;\n",
       "    }\n",
       "</style>\n",
       "<table border=\"1\" class=\"dataframe\">\n",
       "  <thead>\n",
       "    <tr style=\"text-align: right;\">\n",
       "      <th></th>\n",
       "      <th>variable</th>\n",
       "      <th>value</th>\n",
       "      <th>count</th>\n",
       "    </tr>\n",
       "  </thead>\n",
       "  <tbody>\n",
       "    <tr>\n",
       "      <td>0</td>\n",
       "      <td>DecisionTreeClassifier</td>\n",
       "      <td>2</td>\n",
       "      <td>100</td>\n",
       "    </tr>\n",
       "    <tr>\n",
       "      <td>1</td>\n",
       "      <td>LogisticClassifier</td>\n",
       "      <td>2</td>\n",
       "      <td>100</td>\n",
       "    </tr>\n",
       "    <tr>\n",
       "      <td>2</td>\n",
       "      <td>RandomforestClassifier</td>\n",
       "      <td>2</td>\n",
       "      <td>100</td>\n",
       "    </tr>\n",
       "  </tbody>\n",
       "</table>\n",
       "</div>"
      ],
      "text/plain": [
       "                 variable  value  count\n",
       "0  DecisionTreeClassifier      2    100\n",
       "1      LogisticClassifier      2    100\n",
       "2  RandomforestClassifier      2    100"
      ]
     },
     "execution_count": 57,
     "metadata": {},
     "output_type": "execute_result"
    }
   ],
   "source": [
    "predict_result3=predict_result2.groupby(['variable','value']).size().reset_index().rename(columns={0:'count'})\n",
    "predict_result3"
   ]
  },
  {
   "cell_type": "code",
   "execution_count": 58,
   "metadata": {},
   "outputs": [
    {
     "data": {
      "text/plain": [
       "<matplotlib.axes._subplots.AxesSubplot at 0x1eda7061978>"
      ]
     },
     "execution_count": 58,
     "metadata": {},
     "output_type": "execute_result"
    },
    {
     "data": {
      "image/png": "[encoded data removed]",
      "text/plain": [
       "<Figure size 720x360 with 1 Axes>"
      ]
     },
     "metadata": {
      "needs_background": "light"
     },
     "output_type": "display_data"
    }
   ],
   "source": [
    "plt.figure(figsize=(10,5))\n",
    "ax=plt.axes()\n",
    "ax.set_title('Number of class for each methods')\n",
    "sns.barplot(x='value', y='count', hue='variable', data=predict_result3)"
   ]
  },
  {
   "cell_type": "code",
   "execution_count": 54,
   "metadata": {},
   "outputs": [],
   "source": [
    "predict_result1=predict_result.reset_index().rename(columns={'index':'case'})\n",
    "predict_result2=pd.melt(predict_result1,id_vars='case', value_vars=['LogisticClassifier', 'RandomforestClassifier', 'DecisionTreeClassifier'])"
   ]
  }
 ],
 "metadata": {
  "kernelspec": {
   "display_name": "Python 3",
   "language": "python",
   "name": "python3"
  },
  "language_info": {
   "codemirror_mode": {
    "name": "ipython",
    "version": 3
   },
   "file_extension": ".py",
   "mimetype": "text/x-python",
   "name": "python",
   "nbconvert_exporter": "python",
   "pygments_lexer": "ipython3",
   "version": "3.6.9"
  }
 },
 "nbformat": 4,
 "nbformat_minor": 2
}
