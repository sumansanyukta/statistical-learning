{
 "cells": [
  {
   "cell_type": "code",
   "execution_count": null,
   "metadata": {},
   "outputs": [],
   "source": [
    "''' \n",
    "@@ Authur: Sanyukta Suman\n",
    "\n",
    "Which kind of data set did you choose for your Project?\n",
    "\n",
    "Answer- I have choosen the dataset which contains movie reviews from Rotten Tomatoes.\n",
    "\n",
    "Description of dataset in mathematical correct formalism\n",
    "\n",
    "Universe Ω = {Website (Rotten Tomatoes), User who is writing a review, Internet}\n",
    " Elementary Events ω= The possibility of the user writing the review in the comment section.\n",
    "Measurable Function (RV-function)= procedure of reading reviews given by the users and measuring the reviews according to the sentiment.\n",
    "Data Value Space= {PhraseId, SentenceId, Phrase, Sentiment}\n",
    "\n",
    "\n",
    "\n",
    "------ \n",
    "------ Objective of this project is multi-class classification,instead of positive/negative\n",
    "prediction, we will classify phares in sentiment scale 0 to 4\n",
    "where 0 is the lowest sentiment (negative) and 4 is the highest sentiment(positive)-------\n",
    "'''\n",
    "\n"
   ]
  },
  {
   "cell_type": "code",
   "execution_count": null,
   "metadata": {},
   "outputs": [],
   "source": [
    "# Describe the RV-Fuction\n",
    "'''The RV-function of the dataset is procedure of giving rating, measure of helpfullness and typing Review Text'''\n",
    "\n",
    "#Define Data Value Space \n",
    "'''Data value set(DVS) ={PhraseId, SentenceId, Phrase, Sentiment}'''"
   ]
  },
  {
   "cell_type": "code",
   "execution_count": 1,
   "metadata": {},
   "outputs": [],
   "source": [
    "#importing important libraries\n",
    "import numpy as np \n",
    "import pandas as pd \n",
    "import nltk\n",
    "from nltk.tokenize import word_tokenize\n",
    "from nltk.stem import WordNetLemmatizer\n",
    "from nltk.corpus import stopwords\n",
    "from bs4 import BeautifulSoup\n",
    "import re\n",
    "import random\n",
    "from sklearn.model_selection import train_test_split\n",
    "from tqdm import tqdm\n",
    "import matplotlib.pyplot as plt\n",
    "import warnings\n",
    "warnings.filterwarnings(\"ignore\", category=UserWarning, module='bs4')\n",
    "lemmatizer = WordNetLemmatizer()\n",
    "\n",
    "from tqdm import tqdm\n",
    "from nltk.tokenize import TweetTokenizer\n",
    "\n",
    "from time import time  # To time our operations\n",
    "from collections import defaultdict  # For word frequency\n",
    "\n",
    "#import spacy  # For preprocessing\n",
    "\n",
    "import logging  # Setting up the loggings to monitor gensim\n",
    "logging.basicConfig(format=\"%(levelname)s - %(asctime)s: %(message)s\", datefmt= '%H:%M:%S', level=logging.INFO)\n",
    "\n",
    "#set random seed for the session\n",
    "random.seed(1)\n",
    "np.random.seed(1)"
   ]
  },
  {
   "cell_type": "code",
   "execution_count": 18,
   "metadata": {},
   "outputs": [],
   "source": [
    "#load train data\n",
    "df_train=pd.read_csv(\"train.tsv\", sep='\\t', nrows=100)"
   ]
  },
  {
   "cell_type": "code",
   "execution_count": 3,
   "metadata": {},
   "outputs": [
    {
     "data": {
      "text/html": [
       "<div>\n",
       "<style scoped>\n",
       "    .dataframe tbody tr th:only-of-type {\n",
       "        vertical-align: middle;\n",
       "    }\n",
       "\n",
       "    .dataframe tbody tr th {\n",
       "        vertical-align: top;\n",
       "    }\n",
       "\n",
       "    .dataframe thead th {\n",
       "        text-align: right;\n",
       "    }\n",
       "</style>\n",
       "<table border=\"1\" class=\"dataframe\">\n",
       "  <thead>\n",
       "    <tr style=\"text-align: right;\">\n",
       "      <th></th>\n",
       "      <th>PhraseId</th>\n",
       "      <th>SentenceId</th>\n",
       "      <th>Phrase</th>\n",
       "      <th>Sentiment</th>\n",
       "    </tr>\n",
       "  </thead>\n",
       "  <tbody>\n",
       "    <tr>\n",
       "      <td>0</td>\n",
       "      <td>1</td>\n",
       "      <td>1</td>\n",
       "      <td>A series of escapades demonstrating the adage ...</td>\n",
       "      <td>1</td>\n",
       "    </tr>\n",
       "    <tr>\n",
       "      <td>1</td>\n",
       "      <td>2</td>\n",
       "      <td>1</td>\n",
       "      <td>A series of escapades demonstrating the adage ...</td>\n",
       "      <td>2</td>\n",
       "    </tr>\n",
       "    <tr>\n",
       "      <td>2</td>\n",
       "      <td>3</td>\n",
       "      <td>1</td>\n",
       "      <td>A series</td>\n",
       "      <td>2</td>\n",
       "    </tr>\n",
       "    <tr>\n",
       "      <td>3</td>\n",
       "      <td>4</td>\n",
       "      <td>1</td>\n",
       "      <td>A</td>\n",
       "      <td>2</td>\n",
       "    </tr>\n",
       "    <tr>\n",
       "      <td>4</td>\n",
       "      <td>5</td>\n",
       "      <td>1</td>\n",
       "      <td>series</td>\n",
       "      <td>2</td>\n",
       "    </tr>\n",
       "  </tbody>\n",
       "</table>\n",
       "</div>"
      ],
      "text/plain": [
       "   PhraseId  SentenceId                                             Phrase  \\\n",
       "0         1           1  A series of escapades demonstrating the adage ...   \n",
       "1         2           1  A series of escapades demonstrating the adage ...   \n",
       "2         3           1                                           A series   \n",
       "3         4           1                                                  A   \n",
       "4         5           1                                             series   \n",
       "\n",
       "   Sentiment  \n",
       "0          1  \n",
       "1          2  \n",
       "2          2  \n",
       "3          2  \n",
       "4          2  "
      ]
     },
     "execution_count": 3,
     "metadata": {},
     "output_type": "execute_result"
    }
   ],
   "source": [
    "df_train.head()"
   ]
  },
  {
   "cell_type": "code",
   "execution_count": 4,
   "metadata": {},
   "outputs": [
    {
     "data": {
      "text/plain": [
       "(100, 4)"
      ]
     },
     "execution_count": 4,
     "metadata": {},
     "output_type": "execute_result"
    }
   ],
   "source": [
    "df_train.shape"
   ]
  },
  {
   "cell_type": "code",
   "execution_count": 19,
   "metadata": {},
   "outputs": [],
   "source": [
    "#load test data\n",
    "df_test=pd.read_csv(\"test.tsv\", sep='\\t', nrows=100)"
   ]
  },
  {
   "cell_type": "code",
   "execution_count": 6,
   "metadata": {},
   "outputs": [
    {
     "data": {
      "text/html": [
       "<div>\n",
       "<style scoped>\n",
       "    .dataframe tbody tr th:only-of-type {\n",
       "        vertical-align: middle;\n",
       "    }\n",
       "\n",
       "    .dataframe tbody tr th {\n",
       "        vertical-align: top;\n",
       "    }\n",
       "\n",
       "    .dataframe thead th {\n",
       "        text-align: right;\n",
       "    }\n",
       "</style>\n",
       "<table border=\"1\" class=\"dataframe\">\n",
       "  <thead>\n",
       "    <tr style=\"text-align: right;\">\n",
       "      <th></th>\n",
       "      <th>PhraseId</th>\n",
       "      <th>SentenceId</th>\n",
       "      <th>Phrase</th>\n",
       "    </tr>\n",
       "  </thead>\n",
       "  <tbody>\n",
       "    <tr>\n",
       "      <td>0</td>\n",
       "      <td>156061</td>\n",
       "      <td>8545</td>\n",
       "      <td>An intermittently pleasing but mostly routine ...</td>\n",
       "    </tr>\n",
       "    <tr>\n",
       "      <td>1</td>\n",
       "      <td>156062</td>\n",
       "      <td>8545</td>\n",
       "      <td>An intermittently pleasing but mostly routine ...</td>\n",
       "    </tr>\n",
       "    <tr>\n",
       "      <td>2</td>\n",
       "      <td>156063</td>\n",
       "      <td>8545</td>\n",
       "      <td>An</td>\n",
       "    </tr>\n",
       "    <tr>\n",
       "      <td>3</td>\n",
       "      <td>156064</td>\n",
       "      <td>8545</td>\n",
       "      <td>intermittently pleasing but mostly routine effort</td>\n",
       "    </tr>\n",
       "    <tr>\n",
       "      <td>4</td>\n",
       "      <td>156065</td>\n",
       "      <td>8545</td>\n",
       "      <td>intermittently pleasing but mostly routine</td>\n",
       "    </tr>\n",
       "  </tbody>\n",
       "</table>\n",
       "</div>"
      ],
      "text/plain": [
       "   PhraseId  SentenceId                                             Phrase\n",
       "0    156061        8545  An intermittently pleasing but mostly routine ...\n",
       "1    156062        8545  An intermittently pleasing but mostly routine ...\n",
       "2    156063        8545                                                 An\n",
       "3    156064        8545  intermittently pleasing but mostly routine effort\n",
       "4    156065        8545         intermittently pleasing but mostly routine"
      ]
     },
     "execution_count": 6,
     "metadata": {},
     "output_type": "execute_result"
    }
   ],
   "source": [
    "df_test.head()"
   ]
  },
  {
   "cell_type": "code",
   "execution_count": 7,
   "metadata": {},
   "outputs": [
    {
     "name": "stderr",
     "output_type": "stream",
     "text": [
      "100%|████████████████████████████████████████████████████████████████████████████████| 100/100 [00:03<00:00, 28.74it/s]\n",
      "100%|███████████████████████████████████████████████████████████████████████████████| 100/100 [00:00<00:00, 394.31it/s]\n"
     ]
    },
    {
     "name": "stdout",
     "output_type": "stream",
     "text": [
      "100\n",
      "100\n"
     ]
    }
   ],
   "source": [
    "#method to clean the reviews, tokenize, remove stop words and lemmatize them.\n",
    "def clean_sentences(df):\n",
    "    reviews = []\n",
    "\n",
    "    for sent in tqdm(df['Phrase']):\n",
    "        \n",
    "        #remove html content\n",
    "        review_text = BeautifulSoup(sent).get_text()\n",
    "        \n",
    "        #remove non-alphabetic characters\n",
    "        review_text = re.sub(\"[^a-zA-Z]\",\" \", review_text)\n",
    "    \n",
    "        #tokenize the sentences\n",
    "        words = word_tokenize(review_text.lower())\n",
    "    \n",
    "        #stop words removal\n",
    "        omit_words = set(stopwords.words('english'))\n",
    "        words = [x for x in words if x not in omit_words]\n",
    "        \n",
    "        #lemmatize each word to its lemma\n",
    "        lemma_words = [lemmatizer.lemmatize(i) for i in words]\n",
    "    \n",
    "        reviews.append(lemma_words)\n",
    "\n",
    "    return(reviews)\n",
    "\n",
    "#cleaned reviews for both train and test set retrieved\n",
    "train_sentences = clean_sentences(df_train)\n",
    "test_sentences = clean_sentences(df_test)\n",
    "print(len(train_sentences))\n",
    "print(len(test_sentences))"
   ]
  },
  {
   "cell_type": "code",
   "execution_count": 8,
   "metadata": {},
   "outputs": [
    {
     "data": {
      "text/plain": [
       "38"
      ]
     },
     "execution_count": 8,
     "metadata": {},
     "output_type": "execute_result"
    }
   ],
   "source": [
    "word_freq_train = defaultdict(int)\n",
    "for sent in train_sentences:\n",
    "    for i in sent:\n",
    "        word_freq_train[i] += 1\n",
    "len(word_freq_train)\n",
    "\n",
    "word_freq_test = defaultdict(int)\n",
    "for sent in test_sentences:\n",
    "    for i in sent:\n",
    "        word_freq_test[i] += 1\n",
    "len(word_freq_test)"
   ]
  },
  {
   "cell_type": "code",
   "execution_count": 88,
   "metadata": {},
   "outputs": [
    {
     "data": {
      "text/plain": [
       "[]"
      ]
     },
     "execution_count": 88,
     "metadata": {},
     "output_type": "execute_result"
    }
   ],
   "source": [
    "sorted(word_freq_train, key=word_freq_train.get, reverse=True)"
   ]
  },
  {
   "cell_type": "code",
   "execution_count": 95,
   "metadata": {},
   "outputs": [],
   "source": [
    "df=pd.DataFrame([word_freq_train])"
   ]
  },
  {
   "cell_type": "code",
   "execution_count": 96,
   "metadata": {},
   "outputs": [
    {
     "data": {
      "text/html": [
       "<div>\n",
       "<style scoped>\n",
       "    .dataframe tbody tr th:only-of-type {\n",
       "        vertical-align: middle;\n",
       "    }\n",
       "\n",
       "    .dataframe tbody tr th {\n",
       "        vertical-align: top;\n",
       "    }\n",
       "\n",
       "    .dataframe thead th {\n",
       "        text-align: right;\n",
       "    }\n",
       "</style>\n",
       "<table border=\"1\" class=\"dataframe\">\n",
       "  <thead>\n",
       "    <tr style=\"text-align: right;\">\n",
       "      <th></th>\n",
       "      <th>series</th>\n",
       "      <th>escapade</th>\n",
       "      <th>demonstrating</th>\n",
       "      <th>adage</th>\n",
       "      <th>good</th>\n",
       "      <th>goose</th>\n",
       "      <th>also</th>\n",
       "      <th>gander</th>\n",
       "      <th>occasionally</th>\n",
       "      <th>amuses</th>\n",
       "      <th>...</th>\n",
       "      <th>fan</th>\n",
       "      <th>ismail</th>\n",
       "      <th>merchant</th>\n",
       "      <th>work</th>\n",
       "      <th>suspect</th>\n",
       "      <th>would</th>\n",
       "      <th>hard</th>\n",
       "      <th>time</th>\n",
       "      <th>sitting</th>\n",
       "      <th>one</th>\n",
       "    </tr>\n",
       "  </thead>\n",
       "  <tbody>\n",
       "    <tr>\n",
       "      <td>0</td>\n",
       "      <td>4</td>\n",
       "      <td>5</td>\n",
       "      <td>7</td>\n",
       "      <td>8</td>\n",
       "      <td>14</td>\n",
       "      <td>12</td>\n",
       "      <td>5</td>\n",
       "      <td>9</td>\n",
       "      <td>9</td>\n",
       "      <td>10</td>\n",
       "      <td>...</td>\n",
       "      <td>4</td>\n",
       "      <td>6</td>\n",
       "      <td>7</td>\n",
       "      <td>5</td>\n",
       "      <td>6</td>\n",
       "      <td>2</td>\n",
       "      <td>2</td>\n",
       "      <td>2</td>\n",
       "      <td>2</td>\n",
       "      <td>2</td>\n",
       "    </tr>\n",
       "  </tbody>\n",
       "</table>\n",
       "<p>1 rows × 31 columns</p>\n",
       "</div>"
      ],
      "text/plain": [
       "   series  escapade  demonstrating  adage  good  goose  also  gander  \\\n",
       "0       4         5              7      8    14     12     5       9   \n",
       "\n",
       "   occasionally  amuses  ...  fan  ismail  merchant  work  suspect  would  \\\n",
       "0             9      10  ...    4       6         7     5        6      2   \n",
       "\n",
       "   hard  time  sitting  one  \n",
       "0     2     2        2    2  \n",
       "\n",
       "[1 rows x 31 columns]"
      ]
     },
     "execution_count": 96,
     "metadata": {},
     "output_type": "execute_result"
    }
   ],
   "source": [
    "df"
   ]
  },
  {
   "cell_type": "code",
   "execution_count": 12,
   "metadata": {},
   "outputs": [
    {
     "data": {
      "image/png": "[encoded data removed]",
      "text/plain": [
       "<Figure size 648x648 with 1 Axes>"
      ]
     },
     "metadata": {
      "needs_background": "light"
     },
     "output_type": "display_data"
    }
   ],
   "source": [
    "import seaborn as sns\n",
    "fig, _ = plt.subplots()\n",
    "\n",
    "fig.set_size_inches(9, 9)\n",
    "\n",
    "#plt.plot(df) # Plot list. x-values assumed to be [0, 1, 2, 3]\n",
    "plt.barh(range(len(word_freq_train)), list(word_freq_train.values()), align='center')\n",
    "#plt.yticks(range(len(w_train)), list(w_train.keys()))\n",
    "plt.show() "
   ]
  },
  {
   "cell_type": "code",
   "execution_count": 80,
   "metadata": {},
   "outputs": [
    {
     "data": {
      "text/plain": [
       "['jez',\n",
       " 'butterworth',\n",
       " 'birthday',\n",
       " 'girl',\n",
       " 'stage',\n",
       " 'trained',\n",
       " 'mojo',\n",
       " 'rrb',\n",
       " 'sad',\n",
       " 'decline']"
      ]
     },
     "execution_count": 80,
     "metadata": {},
     "output_type": "execute_result"
    }
   ],
   "source": [
    "sorted(word_freq_test, key=word_freq_test.get, reverse=True)[:10]"
   ]
  },
  {
   "cell_type": "code",
   "execution_count": 60,
   "metadata": {},
   "outputs": [
    {
     "data": {
      "image/png": "[encoded data removed]",
      "text/plain": [
       "<Figure size 648x648 with 1 Axes>"
      ]
     },
     "metadata": {
      "needs_background": "light"
     },
     "output_type": "display_data"
    }
   ],
   "source": [
    "import seaborn as sns\n",
    "fig, _ = plt.subplots()\n",
    "\n",
    "fig.set_size_inches(9, 9)\n",
    "\n",
    "#plt.plot(df) # Plot list. x-values assumed to be [0, 1, 2, 3]\n",
    "plt.barh(range(len(word_freq_test)), list(word_freq_test.values()), align='center')\n",
    "plt.yticks(range(len(word_freq_test)), list(word_freq_test.keys()))\n",
    "plt.show() "
   ]
  },
  {
   "cell_type": "code",
   "execution_count": 13,
   "metadata": {},
   "outputs": [],
   "source": [
    "df_test=pd.DataFrame(sorted(word_freq_test.values()))"
   ]
  },
  {
   "cell_type": "code",
   "execution_count": 16,
   "metadata": {},
   "outputs": [],
   "source": [
    "dist_train=pd.DataFrame(sorted(word_freq_train.values()))"
   ]
  },
  {
   "cell_type": "code",
   "execution_count": 17,
   "metadata": {},
   "outputs": [
    {
     "data": {
      "text/html": [
       "<div>\n",
       "<style scoped>\n",
       "    .dataframe tbody tr th:only-of-type {\n",
       "        vertical-align: middle;\n",
       "    }\n",
       "\n",
       "    .dataframe tbody tr th {\n",
       "        vertical-align: top;\n",
       "    }\n",
       "\n",
       "    .dataframe thead th {\n",
       "        text-align: right;\n",
       "    }\n",
       "</style>\n",
       "<table border=\"1\" class=\"dataframe\">\n",
       "  <thead>\n",
       "    <tr style=\"text-align: right;\">\n",
       "      <th></th>\n",
       "      <th>0</th>\n",
       "    </tr>\n",
       "  </thead>\n",
       "  <tbody>\n",
       "    <tr>\n",
       "      <td>0</td>\n",
       "      <td>2</td>\n",
       "    </tr>\n",
       "    <tr>\n",
       "      <td>1</td>\n",
       "      <td>2</td>\n",
       "    </tr>\n",
       "    <tr>\n",
       "      <td>2</td>\n",
       "      <td>2</td>\n",
       "    </tr>\n",
       "    <tr>\n",
       "      <td>3</td>\n",
       "      <td>2</td>\n",
       "    </tr>\n",
       "    <tr>\n",
       "      <td>4</td>\n",
       "      <td>2</td>\n",
       "    </tr>\n",
       "    <tr>\n",
       "      <td>5</td>\n",
       "      <td>4</td>\n",
       "    </tr>\n",
       "    <tr>\n",
       "      <td>6</td>\n",
       "      <td>4</td>\n",
       "    </tr>\n",
       "    <tr>\n",
       "      <td>7</td>\n",
       "      <td>4</td>\n",
       "    </tr>\n",
       "    <tr>\n",
       "      <td>8</td>\n",
       "      <td>4</td>\n",
       "    </tr>\n",
       "    <tr>\n",
       "      <td>9</td>\n",
       "      <td>4</td>\n",
       "    </tr>\n",
       "    <tr>\n",
       "      <td>10</td>\n",
       "      <td>5</td>\n",
       "    </tr>\n",
       "    <tr>\n",
       "      <td>11</td>\n",
       "      <td>5</td>\n",
       "    </tr>\n",
       "    <tr>\n",
       "      <td>12</td>\n",
       "      <td>5</td>\n",
       "    </tr>\n",
       "    <tr>\n",
       "      <td>13</td>\n",
       "      <td>5</td>\n",
       "    </tr>\n",
       "    <tr>\n",
       "      <td>14</td>\n",
       "      <td>5</td>\n",
       "    </tr>\n",
       "    <tr>\n",
       "      <td>15</td>\n",
       "      <td>6</td>\n",
       "    </tr>\n",
       "    <tr>\n",
       "      <td>16</td>\n",
       "      <td>6</td>\n",
       "    </tr>\n",
       "    <tr>\n",
       "      <td>17</td>\n",
       "      <td>7</td>\n",
       "    </tr>\n",
       "    <tr>\n",
       "      <td>18</td>\n",
       "      <td>7</td>\n",
       "    </tr>\n",
       "    <tr>\n",
       "      <td>19</td>\n",
       "      <td>7</td>\n",
       "    </tr>\n",
       "    <tr>\n",
       "      <td>20</td>\n",
       "      <td>8</td>\n",
       "    </tr>\n",
       "    <tr>\n",
       "      <td>21</td>\n",
       "      <td>8</td>\n",
       "    </tr>\n",
       "    <tr>\n",
       "      <td>22</td>\n",
       "      <td>9</td>\n",
       "    </tr>\n",
       "    <tr>\n",
       "      <td>23</td>\n",
       "      <td>9</td>\n",
       "    </tr>\n",
       "    <tr>\n",
       "      <td>24</td>\n",
       "      <td>10</td>\n",
       "    </tr>\n",
       "    <tr>\n",
       "      <td>25</td>\n",
       "      <td>12</td>\n",
       "    </tr>\n",
       "    <tr>\n",
       "      <td>26</td>\n",
       "      <td>12</td>\n",
       "    </tr>\n",
       "    <tr>\n",
       "      <td>27</td>\n",
       "      <td>14</td>\n",
       "    </tr>\n",
       "    <tr>\n",
       "      <td>28</td>\n",
       "      <td>15</td>\n",
       "    </tr>\n",
       "    <tr>\n",
       "      <td>29</td>\n",
       "      <td>17</td>\n",
       "    </tr>\n",
       "    <tr>\n",
       "      <td>30</td>\n",
       "      <td>19</td>\n",
       "    </tr>\n",
       "  </tbody>\n",
       "</table>\n",
       "</div>"
      ],
      "text/plain": [
       "     0\n",
       "0    2\n",
       "1    2\n",
       "2    2\n",
       "3    2\n",
       "4    2\n",
       "5    4\n",
       "6    4\n",
       "7    4\n",
       "8    4\n",
       "9    4\n",
       "10   5\n",
       "11   5\n",
       "12   5\n",
       "13   5\n",
       "14   5\n",
       "15   6\n",
       "16   6\n",
       "17   7\n",
       "18   7\n",
       "19   7\n",
       "20   8\n",
       "21   8\n",
       "22   9\n",
       "23   9\n",
       "24  10\n",
       "25  12\n",
       "26  12\n",
       "27  14\n",
       "28  15\n",
       "29  17\n",
       "30  19"
      ]
     },
     "execution_count": 17,
     "metadata": {},
     "output_type": "execute_result"
    }
   ],
   "source": [
    "dist_train"
   ]
  },
  {
   "cell_type": "code",
   "execution_count": 23,
   "metadata": {},
   "outputs": [
    {
     "data": {
      "image/png": "[encoded data removed]",
      "text/plain": [
       "<Figure size 432x288 with 1 Axes>"
      ]
     },
     "metadata": {
      "needs_background": "light"
     },
     "output_type": "display_data"
    }
   ],
   "source": [
    "import matplotlib.pyplot as plt\n",
    "import numpy as np\n",
    "import scipy.stats as stats\n",
    "from scipy.stats import norm\n",
    "\n",
    "import math\n",
    "\n",
    "mu = 0\n",
    "variance = 2\n",
    "sigma = math.sqrt(variance)\n",
    "x = np.linspace(mu - 3*sigma, mu + 3*sigma, 100)\n",
    "sns.distplot(list(word_freq_test.values()), fit=stats.gamma, kde=False,hist=True,rug=True) \n",
    "#plt.plot(sorted(word_freq_test.values()))\n",
    "plt.show()"
   ]
  },
  {
   "cell_type": "code",
   "execution_count": 33,
   "metadata": {},
   "outputs": [
    {
     "data": {
      "image/png": "[encoded data removed]",
      "text/plain": [
       "<Figure size 432x288 with 1 Axes>"
      ]
     },
     "metadata": {
      "needs_background": "light"
     },
     "output_type": "display_data"
    }
   ],
   "source": [
    "import matplotlib.pyplot as plt\n",
    "import numpy as np\n",
    "import scipy.stats as stats\n",
    "from scipy.stats import norm\n",
    "\n",
    "import math\n",
    "\n",
    "mu = 0\n",
    "variance = 2\n",
    "sigma = math.sqrt(variance)\n",
    "x = np.linspace(mu - 3*sigma, mu + 3*sigma, 100)\n",
    "sns.distplot(list(word_freq_train.values()), fit=stats.gamma, kde=False ,bins=13,hist=True,rug=True) \n",
    "#plt.plot(sorted(word_freq_test.values()))\n",
    "plt.show()"
   ]
  },
  {
   "cell_type": "code",
   "execution_count": 34,
   "metadata": {},
   "outputs": [
    {
     "name": "stderr",
     "output_type": "stream",
     "text": [
      "INFO - 15:33:38: 'pattern' package not found; tag filters are not available for English\n"
     ]
    }
   ],
   "source": [
    "import multiprocessing\n",
    "\n",
    "from gensim.models import Word2Vec"
   ]
  },
  {
   "cell_type": "code",
   "execution_count": 35,
   "metadata": {},
   "outputs": [],
   "source": [
    "cores = multiprocessing.cpu_count() # Count the number of cores in a computer"
   ]
  },
  {
   "cell_type": "code",
   "execution_count": 36,
   "metadata": {},
   "outputs": [],
   "source": [
    "w2v_model = Word2Vec(min_count=1,\n",
    "                     window=2,\n",
    "                     size=300,\n",
    "                     sample=6e-5, \n",
    "                     alpha=0.03, \n",
    "                     min_alpha=0.0007, \n",
    "                     negative=20,\n",
    "                     workers=cores-1)"
   ]
  },
  {
   "cell_type": "code",
   "execution_count": 37,
   "metadata": {},
   "outputs": [
    {
     "name": "stderr",
     "output_type": "stream",
     "text": [
      "INFO - 15:33:43: collecting all words and their counts\n",
      "INFO - 15:33:43: PROGRESS: at sentence #0, processed 0 words, keeping 0 word types\n",
      "INFO - 15:33:43: collected 31 word types from a corpus of 221 raw words and 100 sentences\n",
      "INFO - 15:33:43: Loading a fresh vocabulary\n",
      "INFO - 15:33:43: effective_min_count=1 retains 31 unique words (100% of original 31, drops 0)\n",
      "INFO - 15:33:43: effective_min_count=1 leaves 221 word corpus (100% of original 221, drops 0)\n",
      "INFO - 15:33:43: deleting the raw counts dictionary of 31 items\n",
      "INFO - 15:33:43: sample=6e-05 downsamples 31 most-common words\n",
      "INFO - 15:33:43: downsampling leaves estimated 9 word corpus (4.3% of prior 221)\n",
      "INFO - 15:33:43: estimated required memory for 31 words and 300 dimensions: 89900 bytes\n",
      "INFO - 15:33:43: resetting layer weights\n"
     ]
    },
    {
     "name": "stdout",
     "output_type": "stream",
     "text": [
      "Time to build vocab: 0.0 mins\n"
     ]
    }
   ],
   "source": [
    "t = time()\n",
    "\n",
    "w2v_model.build_vocab(train_sentences, progress_per=10000)\n",
    "\n",
    "print('Time to build vocab: {} mins'.format(round((time() - t) / 60, 2)))"
   ]
  },
  {
   "cell_type": "code",
   "execution_count": 38,
   "metadata": {},
   "outputs": [
    {
     "name": "stderr",
     "output_type": "stream",
     "text": [
      "INFO - 15:33:50: training model with 7 workers on 31 vocabulary and 300 features, using sg=0 hs=0 sample=6e-05 negative=20 window=2\n",
      "INFO - 15:33:50: worker thread finished; awaiting finish of 6 more threads\n",
      "INFO - 15:33:50: worker thread finished; awaiting finish of 5 more threads\n",
      "INFO - 15:33:50: worker thread finished; awaiting finish of 4 more threads\n",
      "INFO - 15:33:50: worker thread finished; awaiting finish of 3 more threads\n",
      "INFO - 15:33:50: worker thread finished; awaiting finish of 2 more threads\n",
      "INFO - 15:33:50: worker thread finished; awaiting finish of 1 more threads\n",
      "INFO - 15:33:50: worker thread finished; awaiting finish of 0 more threads\n",
      "INFO - 15:33:50: EPOCH - 1 : training on 221 raw words (8 effective words) took 0.0s, 341 effective words/s\n",
      "INFO - 15:33:50: worker thread finished; awaiting finish of 6 more threads\n",
      "INFO - 15:33:50: worker thread finished; awaiting finish of 5 more threads\n",
      "INFO - 15:33:50: worker thread finished; awaiting finish of 4 more threads\n",
      "INFO - 15:33:50: worker thread finished; awaiting finish of 3 more threads\n",
      "INFO - 15:33:50: worker thread finished; awaiting finish of 2 more threads\n",
      "INFO - 15:33:50: worker thread finished; awaiting finish of 1 more threads\n",
      "INFO - 15:33:50: worker thread finished; awaiting finish of 0 more threads\n",
      "INFO - 15:33:50: EPOCH - 2 : training on 221 raw words (9 effective words) took 0.0s, 521 effective words/s\n",
      "INFO - 15:33:50: worker thread finished; awaiting finish of 6 more threads\n",
      "INFO - 15:33:50: worker thread finished; awaiting finish of 5 more threads\n",
      "INFO - 15:33:50: worker thread finished; awaiting finish of 4 more threads\n",
      "INFO - 15:33:50: worker thread finished; awaiting finish of 3 more threads\n",
      "INFO - 15:33:50: worker thread finished; awaiting finish of 2 more threads\n",
      "INFO - 15:33:50: worker thread finished; awaiting finish of 1 more threads\n",
      "INFO - 15:33:50: worker thread finished; awaiting finish of 0 more threads\n",
      "INFO - 15:33:50: EPOCH - 3 : training on 221 raw words (13 effective words) took 0.0s, 697 effective words/s\n",
      "INFO - 15:33:50: worker thread finished; awaiting finish of 6 more threads\n",
      "INFO - 15:33:50: worker thread finished; awaiting finish of 5 more threads\n",
      "INFO - 15:33:50: worker thread finished; awaiting finish of 4 more threads\n",
      "INFO - 15:33:50: worker thread finished; awaiting finish of 3 more threads\n",
      "INFO - 15:33:50: worker thread finished; awaiting finish of 2 more threads\n",
      "INFO - 15:33:50: worker thread finished; awaiting finish of 1 more threads\n",
      "INFO - 15:33:50: worker thread finished; awaiting finish of 0 more threads\n",
      "INFO - 15:33:50: EPOCH - 4 : training on 221 raw words (8 effective words) took 0.0s, 468 effective words/s\n",
      "INFO - 15:33:50: worker thread finished; awaiting finish of 6 more threads\n",
      "INFO - 15:33:50: worker thread finished; awaiting finish of 5 more threads\n",
      "INFO - 15:33:50: worker thread finished; awaiting finish of 4 more threads\n",
      "INFO - 15:33:50: worker thread finished; awaiting finish of 3 more threads\n",
      "INFO - 15:33:50: worker thread finished; awaiting finish of 2 more threads\n",
      "INFO - 15:33:50: worker thread finished; awaiting finish of 1 more threads\n",
      "INFO - 15:33:50: worker thread finished; awaiting finish of 0 more threads\n",
      "INFO - 15:33:50: EPOCH - 5 : training on 221 raw words (6 effective words) took 0.0s, 352 effective words/s\n",
      "INFO - 15:33:50: worker thread finished; awaiting finish of 6 more threads\n",
      "INFO - 15:33:50: worker thread finished; awaiting finish of 5 more threads\n",
      "INFO - 15:33:50: worker thread finished; awaiting finish of 4 more threads\n",
      "INFO - 15:33:50: worker thread finished; awaiting finish of 3 more threads\n",
      "INFO - 15:33:50: worker thread finished; awaiting finish of 2 more threads\n",
      "INFO - 15:33:50: worker thread finished; awaiting finish of 1 more threads\n",
      "INFO - 15:33:50: worker thread finished; awaiting finish of 0 more threads\n",
      "INFO - 15:33:50: EPOCH - 6 : training on 221 raw words (9 effective words) took 0.0s, 603 effective words/s\n",
      "INFO - 15:33:50: worker thread finished; awaiting finish of 6 more threads\n",
      "INFO - 15:33:50: worker thread finished; awaiting finish of 5 more threads\n",
      "INFO - 15:33:50: worker thread finished; awaiting finish of 4 more threads\n",
      "INFO - 15:33:50: worker thread finished; awaiting finish of 3 more threads\n",
      "INFO - 15:33:50: worker thread finished; awaiting finish of 2 more threads\n",
      "INFO - 15:33:50: worker thread finished; awaiting finish of 1 more threads\n",
      "INFO - 15:33:50: worker thread finished; awaiting finish of 0 more threads\n",
      "INFO - 15:33:50: EPOCH - 7 : training on 221 raw words (7 effective words) took 0.0s, 474 effective words/s\n",
      "INFO - 15:33:50: worker thread finished; awaiting finish of 6 more threads\n",
      "INFO - 15:33:50: worker thread finished; awaiting finish of 5 more threads\n",
      "INFO - 15:33:50: worker thread finished; awaiting finish of 4 more threads\n",
      "INFO - 15:33:50: worker thread finished; awaiting finish of 3 more threads\n",
      "INFO - 15:33:50: worker thread finished; awaiting finish of 2 more threads\n",
      "INFO - 15:33:50: worker thread finished; awaiting finish of 1 more threads\n",
      "INFO - 15:33:50: worker thread finished; awaiting finish of 0 more threads\n",
      "INFO - 15:33:50: EPOCH - 8 : training on 221 raw words (5 effective words) took 0.0s, 360 effective words/s\n",
      "INFO - 15:33:50: worker thread finished; awaiting finish of 6 more threads\n",
      "INFO - 15:33:50: worker thread finished; awaiting finish of 5 more threads\n",
      "INFO - 15:33:50: worker thread finished; awaiting finish of 4 more threads\n",
      "INFO - 15:33:50: worker thread finished; awaiting finish of 3 more threads\n",
      "INFO - 15:33:50: worker thread finished; awaiting finish of 2 more threads\n",
      "INFO - 15:33:50: worker thread finished; awaiting finish of 1 more threads\n",
      "INFO - 15:33:50: worker thread finished; awaiting finish of 0 more threads\n",
      "INFO - 15:33:50: EPOCH - 9 : training on 221 raw words (6 effective words) took 0.0s, 340 effective words/s\n",
      "INFO - 15:33:50: worker thread finished; awaiting finish of 6 more threads\n",
      "INFO - 15:33:50: worker thread finished; awaiting finish of 5 more threads\n",
      "INFO - 15:33:50: worker thread finished; awaiting finish of 4 more threads\n",
      "INFO - 15:33:50: worker thread finished; awaiting finish of 3 more threads\n",
      "INFO - 15:33:50: worker thread finished; awaiting finish of 2 more threads\n",
      "INFO - 15:33:50: worker thread finished; awaiting finish of 1 more threads\n",
      "INFO - 15:33:50: worker thread finished; awaiting finish of 0 more threads\n",
      "INFO - 15:33:50: EPOCH - 10 : training on 221 raw words (10 effective words) took 0.0s, 657 effective words/s\n",
      "INFO - 15:33:50: worker thread finished; awaiting finish of 6 more threads\n",
      "INFO - 15:33:50: worker thread finished; awaiting finish of 5 more threads\n",
      "INFO - 15:33:50: worker thread finished; awaiting finish of 4 more threads\n",
      "INFO - 15:33:50: worker thread finished; awaiting finish of 3 more threads\n",
      "INFO - 15:33:50: worker thread finished; awaiting finish of 2 more threads\n",
      "INFO - 15:33:50: worker thread finished; awaiting finish of 1 more threads\n",
      "INFO - 15:33:50: worker thread finished; awaiting finish of 0 more threads\n",
      "INFO - 15:33:50: EPOCH - 11 : training on 221 raw words (12 effective words) took 0.0s, 874 effective words/s\n",
      "INFO - 15:33:50: worker thread finished; awaiting finish of 6 more threads\n",
      "INFO - 15:33:50: worker thread finished; awaiting finish of 5 more threads\n",
      "INFO - 15:33:50: worker thread finished; awaiting finish of 4 more threads\n",
      "INFO - 15:33:50: worker thread finished; awaiting finish of 3 more threads\n",
      "INFO - 15:33:50: worker thread finished; awaiting finish of 2 more threads\n",
      "INFO - 15:33:50: worker thread finished; awaiting finish of 1 more threads\n",
      "INFO - 15:33:50: worker thread finished; awaiting finish of 0 more threads\n",
      "INFO - 15:33:50: EPOCH - 12 : training on 221 raw words (7 effective words) took 0.0s, 382 effective words/s\n",
      "INFO - 15:33:50: worker thread finished; awaiting finish of 6 more threads\n",
      "INFO - 15:33:50: worker thread finished; awaiting finish of 5 more threads\n",
      "INFO - 15:33:50: worker thread finished; awaiting finish of 4 more threads\n",
      "INFO - 15:33:50: worker thread finished; awaiting finish of 3 more threads\n",
      "INFO - 15:33:50: worker thread finished; awaiting finish of 2 more threads\n",
      "INFO - 15:33:50: worker thread finished; awaiting finish of 1 more threads\n",
      "INFO - 15:33:50: worker thread finished; awaiting finish of 0 more threads\n",
      "INFO - 15:33:50: EPOCH - 13 : training on 221 raw words (7 effective words) took 0.0s, 543 effective words/s\n",
      "INFO - 15:33:50: worker thread finished; awaiting finish of 6 more threads\n",
      "INFO - 15:33:50: worker thread finished; awaiting finish of 5 more threads\n",
      "INFO - 15:33:50: worker thread finished; awaiting finish of 4 more threads\n",
      "INFO - 15:33:50: worker thread finished; awaiting finish of 3 more threads\n",
      "INFO - 15:33:50: worker thread finished; awaiting finish of 2 more threads\n",
      "INFO - 15:33:50: worker thread finished; awaiting finish of 1 more threads\n",
      "INFO - 15:33:50: worker thread finished; awaiting finish of 0 more threads\n",
      "INFO - 15:33:50: EPOCH - 14 : training on 221 raw words (12 effective words) took 0.0s, 696 effective words/s\n",
      "INFO - 15:33:50: worker thread finished; awaiting finish of 6 more threads\n",
      "INFO - 15:33:50: worker thread finished; awaiting finish of 5 more threads\n",
      "INFO - 15:33:50: worker thread finished; awaiting finish of 4 more threads\n",
      "INFO - 15:33:50: worker thread finished; awaiting finish of 3 more threads\n",
      "INFO - 15:33:50: worker thread finished; awaiting finish of 2 more threads\n",
      "INFO - 15:33:50: worker thread finished; awaiting finish of 1 more threads\n",
      "INFO - 15:33:50: worker thread finished; awaiting finish of 0 more threads\n",
      "INFO - 15:33:50: EPOCH - 15 : training on 221 raw words (9 effective words) took 0.0s, 711 effective words/s\n",
      "INFO - 15:33:50: worker thread finished; awaiting finish of 6 more threads\n",
      "INFO - 15:33:50: worker thread finished; awaiting finish of 5 more threads\n",
      "INFO - 15:33:50: worker thread finished; awaiting finish of 4 more threads\n",
      "INFO - 15:33:50: worker thread finished; awaiting finish of 3 more threads\n",
      "INFO - 15:33:50: worker thread finished; awaiting finish of 2 more threads\n",
      "INFO - 15:33:50: worker thread finished; awaiting finish of 1 more threads\n",
      "INFO - 15:33:50: worker thread finished; awaiting finish of 0 more threads\n",
      "INFO - 15:33:50: EPOCH - 16 : training on 221 raw words (9 effective words) took 0.0s, 751 effective words/s\n",
      "INFO - 15:33:50: worker thread finished; awaiting finish of 6 more threads\n",
      "INFO - 15:33:50: worker thread finished; awaiting finish of 5 more threads\n",
      "INFO - 15:33:50: worker thread finished; awaiting finish of 4 more threads\n",
      "INFO - 15:33:50: worker thread finished; awaiting finish of 3 more threads\n",
      "INFO - 15:33:50: worker thread finished; awaiting finish of 2 more threads\n",
      "INFO - 15:33:50: worker thread finished; awaiting finish of 1 more threads\n",
      "INFO - 15:33:50: worker thread finished; awaiting finish of 0 more threads\n",
      "INFO - 15:33:50: EPOCH - 17 : training on 221 raw words (8 effective words) took 0.0s, 553 effective words/s\n",
      "INFO - 15:33:50: worker thread finished; awaiting finish of 6 more threads\n",
      "INFO - 15:33:50: worker thread finished; awaiting finish of 5 more threads\n",
      "INFO - 15:33:50: worker thread finished; awaiting finish of 4 more threads\n",
      "INFO - 15:33:50: worker thread finished; awaiting finish of 3 more threads\n",
      "INFO - 15:33:50: worker thread finished; awaiting finish of 2 more threads\n",
      "INFO - 15:33:50: worker thread finished; awaiting finish of 1 more threads\n",
      "INFO - 15:33:50: worker thread finished; awaiting finish of 0 more threads\n",
      "INFO - 15:33:50: EPOCH - 18 : training on 221 raw words (14 effective words) took 0.0s, 1072 effective words/s\n",
      "INFO - 15:33:50: worker thread finished; awaiting finish of 6 more threads\n",
      "INFO - 15:33:50: worker thread finished; awaiting finish of 5 more threads\n",
      "INFO - 15:33:50: worker thread finished; awaiting finish of 4 more threads\n",
      "INFO - 15:33:50: worker thread finished; awaiting finish of 3 more threads\n",
      "INFO - 15:33:50: worker thread finished; awaiting finish of 2 more threads\n",
      "INFO - 15:33:50: worker thread finished; awaiting finish of 1 more threads\n",
      "INFO - 15:33:50: worker thread finished; awaiting finish of 0 more threads\n",
      "INFO - 15:33:50: EPOCH - 19 : training on 221 raw words (8 effective words) took 0.0s, 582 effective words/s\n",
      "INFO - 15:33:50: worker thread finished; awaiting finish of 6 more threads\n",
      "INFO - 15:33:50: worker thread finished; awaiting finish of 5 more threads\n",
      "INFO - 15:33:50: worker thread finished; awaiting finish of 4 more threads\n",
      "INFO - 15:33:50: worker thread finished; awaiting finish of 3 more threads\n",
      "INFO - 15:33:50: worker thread finished; awaiting finish of 2 more threads\n",
      "INFO - 15:33:50: worker thread finished; awaiting finish of 1 more threads\n",
      "INFO - 15:33:50: worker thread finished; awaiting finish of 0 more threads\n",
      "INFO - 15:33:50: EPOCH - 20 : training on 221 raw words (15 effective words) took 0.0s, 1103 effective words/s\n",
      "INFO - 15:33:50: worker thread finished; awaiting finish of 6 more threads\n",
      "INFO - 15:33:50: worker thread finished; awaiting finish of 5 more threads\n",
      "INFO - 15:33:50: worker thread finished; awaiting finish of 4 more threads\n",
      "INFO - 15:33:50: worker thread finished; awaiting finish of 3 more threads\n",
      "INFO - 15:33:50: worker thread finished; awaiting finish of 2 more threads\n",
      "INFO - 15:33:50: worker thread finished; awaiting finish of 1 more threads\n",
      "INFO - 15:33:50: worker thread finished; awaiting finish of 0 more threads\n",
      "INFO - 15:33:50: EPOCH - 21 : training on 221 raw words (8 effective words) took 0.0s, 665 effective words/s\n",
      "INFO - 15:33:50: worker thread finished; awaiting finish of 6 more threads\n",
      "INFO - 15:33:50: worker thread finished; awaiting finish of 5 more threads\n",
      "INFO - 15:33:50: worker thread finished; awaiting finish of 4 more threads\n",
      "INFO - 15:33:50: worker thread finished; awaiting finish of 3 more threads\n",
      "INFO - 15:33:50: worker thread finished; awaiting finish of 2 more threads\n",
      "INFO - 15:33:50: worker thread finished; awaiting finish of 1 more threads\n",
      "INFO - 15:33:50: worker thread finished; awaiting finish of 0 more threads\n",
      "INFO - 15:33:50: EPOCH - 22 : training on 221 raw words (9 effective words) took 0.0s, 746 effective words/s\n",
      "INFO - 15:33:50: worker thread finished; awaiting finish of 6 more threads\n",
      "INFO - 15:33:50: worker thread finished; awaiting finish of 5 more threads\n",
      "INFO - 15:33:50: worker thread finished; awaiting finish of 4 more threads\n",
      "INFO - 15:33:50: worker thread finished; awaiting finish of 3 more threads\n",
      "INFO - 15:33:50: worker thread finished; awaiting finish of 2 more threads\n",
      "INFO - 15:33:50: worker thread finished; awaiting finish of 1 more threads\n",
      "INFO - 15:33:50: worker thread finished; awaiting finish of 0 more threads\n",
      "INFO - 15:33:50: EPOCH - 23 : training on 221 raw words (10 effective words) took 0.0s, 550 effective words/s\n",
      "INFO - 15:33:50: worker thread finished; awaiting finish of 6 more threads\n",
      "INFO - 15:33:50: worker thread finished; awaiting finish of 5 more threads\n",
      "INFO - 15:33:50: worker thread finished; awaiting finish of 4 more threads\n",
      "INFO - 15:33:50: worker thread finished; awaiting finish of 3 more threads\n",
      "INFO - 15:33:50: worker thread finished; awaiting finish of 2 more threads\n",
      "INFO - 15:33:50: worker thread finished; awaiting finish of 1 more threads\n",
      "INFO - 15:33:50: worker thread finished; awaiting finish of 0 more threads\n",
      "INFO - 15:33:50: EPOCH - 24 : training on 221 raw words (7 effective words) took 0.0s, 473 effective words/s\n",
      "INFO - 15:33:50: worker thread finished; awaiting finish of 6 more threads\n",
      "INFO - 15:33:50: worker thread finished; awaiting finish of 5 more threads\n",
      "INFO - 15:33:50: worker thread finished; awaiting finish of 4 more threads\n",
      "INFO - 15:33:50: worker thread finished; awaiting finish of 3 more threads\n",
      "INFO - 15:33:50: worker thread finished; awaiting finish of 2 more threads\n",
      "INFO - 15:33:50: worker thread finished; awaiting finish of 1 more threads\n",
      "INFO - 15:33:50: worker thread finished; awaiting finish of 0 more threads\n",
      "INFO - 15:33:50: EPOCH - 25 : training on 221 raw words (7 effective words) took 0.0s, 485 effective words/s\n",
      "INFO - 15:33:50: worker thread finished; awaiting finish of 6 more threads\n",
      "INFO - 15:33:50: worker thread finished; awaiting finish of 5 more threads\n",
      "INFO - 15:33:50: worker thread finished; awaiting finish of 4 more threads\n",
      "INFO - 15:33:50: worker thread finished; awaiting finish of 3 more threads\n",
      "INFO - 15:33:50: worker thread finished; awaiting finish of 2 more threads\n",
      "INFO - 15:33:50: worker thread finished; awaiting finish of 1 more threads\n",
      "INFO - 15:33:50: worker thread finished; awaiting finish of 0 more threads\n",
      "INFO - 15:33:50: EPOCH - 26 : training on 221 raw words (11 effective words) took 0.0s, 671 effective words/s\n",
      "INFO - 15:33:50: worker thread finished; awaiting finish of 6 more threads\n",
      "INFO - 15:33:50: worker thread finished; awaiting finish of 5 more threads\n",
      "INFO - 15:33:50: worker thread finished; awaiting finish of 4 more threads\n",
      "INFO - 15:33:50: worker thread finished; awaiting finish of 3 more threads\n",
      "INFO - 15:33:50: worker thread finished; awaiting finish of 2 more threads\n",
      "INFO - 15:33:50: worker thread finished; awaiting finish of 1 more threads\n",
      "INFO - 15:33:50: worker thread finished; awaiting finish of 0 more threads\n",
      "INFO - 15:33:50: EPOCH - 27 : training on 221 raw words (8 effective words) took 0.0s, 501 effective words/s\n",
      "INFO - 15:33:50: worker thread finished; awaiting finish of 6 more threads\n",
      "INFO - 15:33:50: worker thread finished; awaiting finish of 5 more threads\n",
      "INFO - 15:33:50: worker thread finished; awaiting finish of 4 more threads\n",
      "INFO - 15:33:50: worker thread finished; awaiting finish of 3 more threads\n",
      "INFO - 15:33:50: worker thread finished; awaiting finish of 2 more threads\n",
      "INFO - 15:33:50: worker thread finished; awaiting finish of 1 more threads\n",
      "INFO - 15:33:50: worker thread finished; awaiting finish of 0 more threads\n",
      "INFO - 15:33:50: EPOCH - 28 : training on 221 raw words (13 effective words) took 0.0s, 629 effective words/s\n",
      "INFO - 15:33:50: worker thread finished; awaiting finish of 6 more threads\n",
      "INFO - 15:33:50: worker thread finished; awaiting finish of 5 more threads\n",
      "INFO - 15:33:50: worker thread finished; awaiting finish of 4 more threads\n",
      "INFO - 15:33:50: worker thread finished; awaiting finish of 3 more threads\n",
      "INFO - 15:33:50: worker thread finished; awaiting finish of 2 more threads\n",
      "INFO - 15:33:50: worker thread finished; awaiting finish of 1 more threads\n",
      "INFO - 15:33:50: worker thread finished; awaiting finish of 0 more threads\n",
      "INFO - 15:33:50: EPOCH - 29 : training on 221 raw words (13 effective words) took 0.0s, 674 effective words/s\n",
      "INFO - 15:33:50: worker thread finished; awaiting finish of 6 more threads\n",
      "INFO - 15:33:50: worker thread finished; awaiting finish of 5 more threads\n",
      "INFO - 15:33:50: worker thread finished; awaiting finish of 4 more threads\n",
      "INFO - 15:33:50: worker thread finished; awaiting finish of 3 more threads\n",
      "INFO - 15:33:50: worker thread finished; awaiting finish of 2 more threads\n",
      "INFO - 15:33:50: worker thread finished; awaiting finish of 1 more threads\n",
      "INFO - 15:33:50: worker thread finished; awaiting finish of 0 more threads\n",
      "INFO - 15:33:50: EPOCH - 30 : training on 221 raw words (6 effective words) took 0.0s, 339 effective words/s\n",
      "INFO - 15:33:50: training on a 6630 raw words (274 effective words) took 0.7s, 402 effective words/s\n",
      "WARNING - 15:33:50: under 10 jobs per worker: consider setting a smaller `batch_words' for smoother alpha decay\n"
     ]
    },
    {
     "name": "stdout",
     "output_type": "stream",
     "text": [
      "Time to train the model: 0.01 mins\n"
     ]
    }
   ],
   "source": [
    "t = time()\n",
    "\n",
    "w2v_model.train(train_sentences, total_examples=w2v_model.corpus_count, epochs=30, report_delay=1)\n",
    "\n",
    "print('Time to train the model: {} mins'.format(round((time() - t) / 60, 2)))"
   ]
  },
  {
   "cell_type": "code",
   "execution_count": 39,
   "metadata": {},
   "outputs": [
    {
     "name": "stderr",
     "output_type": "stream",
     "text": [
      "INFO - 15:33:56: precomputing L2-norms of word weight vectors\n"
     ]
    }
   ],
   "source": [
    "w2v_model.init_sims(replace=True)"
   ]
  },
  {
   "cell_type": "code",
   "execution_count": 40,
   "metadata": {},
   "outputs": [
    {
     "data": {
      "text/plain": [
       "[('quiet', 0.12161903083324432),\n",
       " ('work', 0.11659252643585205),\n",
       " ('ismail', 0.11650417000055313),\n",
       " ('suspect', 0.08039720356464386),\n",
       " ('demonstrating', 0.06757642328739166),\n",
       " ('hard', 0.05425204336643219),\n",
       " ('would', 0.034317098557949066),\n",
       " ('also', 0.03048618882894516),\n",
       " ('story', 0.029819171875715256),\n",
       " ('amount', 0.02963307686150074)]"
      ]
     },
     "execution_count": 40,
     "metadata": {},
     "output_type": "execute_result"
    }
   ],
   "source": [
    "w2v_model.wv.most_similar(positive=[\"good\"])"
   ]
  },
  {
   "cell_type": "code",
   "execution_count": 41,
   "metadata": {},
   "outputs": [],
   "source": [
    "import numpy as np\n",
    "import matplotlib.pyplot as plt\n",
    "%matplotlib inline\n",
    " \n",
    "import seaborn as sns\n",
    "sns.set_style(\"darkgrid\")\n",
    "\n",
    "from sklearn.decomposition import PCA\n",
    "from sklearn.manifold import TSNE"
   ]
  },
  {
   "cell_type": "code",
   "execution_count": 42,
   "metadata": {},
   "outputs": [],
   "source": [
    "def tsnescatterplot(model, word, list_names):\n",
    "    \"\"\" Plot in seaborn the results from the t-SNE dimensionality reduction algorithm of the vectors of a query word,\n",
    "    its list of most similar words, and a list of words.\n",
    "    \"\"\"\n",
    "    arrays = np.empty((0, 300), dtype='f')\n",
    "    word_labels = [word]\n",
    "    color_list  = ['red']\n",
    "\n",
    "    # adds the vector of the query word\n",
    "    arrays = np.append(arrays, model.wv.__getitem__([word]), axis=0)\n",
    "    \n",
    "    # gets list of most similar words\n",
    "    close_words = model.wv.most_similar([word])\n",
    "    \n",
    "    # adds the vector for each of the closest words to the array\n",
    "    for wrd_score in close_words:\n",
    "        wrd_vector = model.wv.__getitem__([wrd_score[0]])\n",
    "        word_labels.append(wrd_score[0])\n",
    "        color_list.append('blue')\n",
    "        arrays = np.append(arrays, wrd_vector, axis=0)\n",
    "    \n",
    "    # adds the vector for each of the words from list_names to the array\n",
    "    for wrd in list_names:\n",
    "        wrd_vector = model.wv.__getitem__([wrd])\n",
    "        word_labels.append(wrd)\n",
    "        color_list.append('green')\n",
    "        arrays = np.append(arrays, wrd_vector, axis=0)\n",
    "        \n",
    "    # Reduces the dimensionality from 300 to 50 dimensions with PCA\n",
    "    reduc = PCA(n_components=16).fit_transform(arrays)\n",
    "    \n",
    "    # Finds t-SNE coordinates for 2 dimensions\n",
    "    np.set_printoptions(suppress=True)\n",
    "    \n",
    "    Y = TSNE(n_components=2, random_state=0, perplexity=15).fit_transform(reduc)\n",
    "    \n",
    "    # Sets everything up to plot\n",
    "    df = pd.DataFrame({'x': [x for x in Y[:, 0]],\n",
    "                       'y': [y for y in Y[:, 1]],\n",
    "                       'words': word_labels,\n",
    "                       'color': color_list})\n",
    "    \n",
    "    fig, _ = plt.subplots()\n",
    "    fig.set_size_inches(9, 9)\n",
    "    \n",
    "    # Basic plot\n",
    "    p1 = sns.regplot(data=df,\n",
    "                     x=\"x\",\n",
    "                     y=\"y\",\n",
    "                     fit_reg=False,\n",
    "                     marker=\"o\",\n",
    "                     scatter_kws={'s': 40,\n",
    "                                  'facecolors': df['color']\n",
    "                                 }\n",
    "                    )\n",
    "    \n",
    "    # Adds annotations one by one with a loop\n",
    "    for line in range(0, df.shape[0]):\n",
    "         p1.text(df[\"x\"][line],\n",
    "                 df['y'][line],\n",
    "                 '  ' + df[\"words\"][line].title(),\n",
    "                 horizontalalignment='left',\n",
    "                 verticalalignment='bottom', size='medium',\n",
    "                 color=df['color'][line],\n",
    "                 weight='normal'\n",
    "                ).set_size(15)\n",
    "\n",
    "    \n",
    "    plt.xlim(Y[:, 0].min()-50, Y[:, 0].max()+50)\n",
    "    plt.ylim(Y[:, 1].min()-50, Y[:, 1].max()+50)\n",
    "            \n",
    "    plt.title('t-SNE visualization for {}'.format(word.title()))\n",
    "   "
   ]
  },
  {
   "cell_type": "code",
   "execution_count": 43,
   "metadata": {},
   "outputs": [
    {
     "data": {
      "text/plain": [
       "[('quiet', 0.12161903083324432),\n",
       " ('work', 0.11659252643585205),\n",
       " ('ismail', 0.11650417000055313),\n",
       " ('suspect', 0.08039720356464386),\n",
       " ('demonstrating', 0.06757642328739166),\n",
       " ('hard', 0.05425204336643219),\n",
       " ('would', 0.034317098557949066),\n",
       " ('also', 0.03048618882894516),\n",
       " ('story', 0.029819171875715256),\n",
       " ('amount', 0.02963307686150074)]"
      ]
     },
     "execution_count": 43,
     "metadata": {},
     "output_type": "execute_result"
    }
   ],
   "source": [
    "w2v_model.wv.most_similar(positive=[\"good\"])"
   ]
  },
  {
   "cell_type": "code",
   "execution_count": 45,
   "metadata": {},
   "outputs": [
    {
     "ename": "NameError",
     "evalue": "name 'model' is not defined",
     "output_type": "error",
     "traceback": [
      "\u001b[1;31m---------------------------------------------------------------------------\u001b[0m",
      "\u001b[1;31mNameError\u001b[0m                                 Traceback (most recent call last)",
      "\u001b[1;32m<ipython-input-45-c5b7e458d7d3>\u001b[0m in \u001b[0;36m<module>\u001b[1;34m\u001b[0m\n\u001b[1;32m----> 1\u001b[1;33m \u001b[0mX\u001b[0m \u001b[1;33m=\u001b[0m \u001b[0mmodel\u001b[0m\u001b[1;33m[\u001b[0m\u001b[0mmodel\u001b[0m\u001b[1;33m.\u001b[0m\u001b[0mwv\u001b[0m\u001b[1;33m.\u001b[0m\u001b[0mvocab\u001b[0m\u001b[1;33m]\u001b[0m\u001b[1;33m\u001b[0m\u001b[1;33m\u001b[0m\u001b[0m\n\u001b[0m\u001b[0;32m      2\u001b[0m \u001b[0mpca\u001b[0m \u001b[1;33m=\u001b[0m \u001b[0mPCA\u001b[0m\u001b[1;33m(\u001b[0m\u001b[0mn_components\u001b[0m\u001b[1;33m=\u001b[0m\u001b[1;36m2\u001b[0m\u001b[1;33m)\u001b[0m\u001b[1;33m\u001b[0m\u001b[1;33m\u001b[0m\u001b[0m\n\u001b[0;32m      3\u001b[0m \u001b[0mresult\u001b[0m \u001b[1;33m=\u001b[0m \u001b[0mpca\u001b[0m\u001b[1;33m.\u001b[0m\u001b[0mfit_transform\u001b[0m\u001b[1;33m(\u001b[0m\u001b[0mX\u001b[0m\u001b[1;33m)\u001b[0m\u001b[1;33m\u001b[0m\u001b[1;33m\u001b[0m\u001b[0m\n",
      "\u001b[1;31mNameError\u001b[0m: name 'model' is not defined"
     ]
    }
   ],
   "source": [
    "X = model[model.wv.vocab]\n",
    "pca = PCA(n_components=2)\n",
    "result = pca.fit_transform(X)"
   ]
  },
  {
   "cell_type": "code",
   "execution_count": 44,
   "metadata": {},
   "outputs": [
    {
     "data": {
      "image/png": "[encoded data removed]",
      "text/plain": [
       "<Figure size 648x648 with 1 Axes>"
      ]
     },
     "metadata": {},
     "output_type": "display_data"
    }
   ],
   "source": [
    "tsnescatterplot(w2v_model, 'good', ['fan', 'story', 'suspect', 'entertaining', 'time'])"
   ]
  }
 ],
 "metadata": {
  "kernelspec": {
   "display_name": "Python 3",
   "language": "python",
   "name": "python3"
  },
  "language_info": {
   "codemirror_mode": {
    "name": "ipython",
    "version": 3
   },
   "file_extension": ".py",
   "mimetype": "text/x-python",
   "name": "python",
   "nbconvert_exporter": "python",
   "pygments_lexer": "ipython3",
   "version": "3.6.9"
  }
 },
 "nbformat": 4,
 "nbformat_minor": 2
}
